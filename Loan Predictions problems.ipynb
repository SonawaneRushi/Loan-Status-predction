{
 "cells": [
  {
   "cell_type": "markdown",
   "id": "999f7296",
   "metadata": {},
   "source": [
    "# Read Data set"
   ]
  },
  {
   "cell_type": "code",
   "execution_count": 1,
   "id": "15d2234f",
   "metadata": {},
   "outputs": [],
   "source": [
    "import pandas as pd\n",
    "import numpy as np\n",
    "import matplotlib.pyplot as plt\n",
    "import seaborn as sb\n",
    "from warnings import filterwarnings\n",
    "filterwarnings(\"ignore\")"
   ]
  },
  {
   "cell_type": "code",
   "execution_count": 2,
   "id": "5ec1a8f0",
   "metadata": {},
   "outputs": [],
   "source": [
    "A=pd.read_csv(\"C:/Users/STC/Downloads/training_set.csv\")\n",
    "B=pd.read_csv(\"C:/Users/STC/Downloads/testing_set.csv\")"
   ]
  },
  {
   "cell_type": "markdown",
   "id": "768b1184",
   "metadata": {},
   "source": [
    "# Data Preview"
   ]
  },
  {
   "cell_type": "code",
   "execution_count": 3,
   "id": "c4c89f4e",
   "metadata": {},
   "outputs": [
    {
     "data": {
      "text/html": [
       "<div>\n",
       "<style scoped>\n",
       "    .dataframe tbody tr th:only-of-type {\n",
       "        vertical-align: middle;\n",
       "    }\n",
       "\n",
       "    .dataframe tbody tr th {\n",
       "        vertical-align: top;\n",
       "    }\n",
       "\n",
       "    .dataframe thead th {\n",
       "        text-align: right;\n",
       "    }\n",
       "</style>\n",
       "<table border=\"1\" class=\"dataframe\">\n",
       "  <thead>\n",
       "    <tr style=\"text-align: right;\">\n",
       "      <th></th>\n",
       "      <th>Loan_ID</th>\n",
       "      <th>Gender</th>\n",
       "      <th>Married</th>\n",
       "      <th>Dependents</th>\n",
       "      <th>Education</th>\n",
       "      <th>Self_Employed</th>\n",
       "      <th>ApplicantIncome</th>\n",
       "      <th>CoapplicantIncome</th>\n",
       "      <th>LoanAmount</th>\n",
       "      <th>Loan_Amount_Term</th>\n",
       "      <th>Credit_History</th>\n",
       "      <th>Property_Area</th>\n",
       "      <th>Loan_Status</th>\n",
       "    </tr>\n",
       "  </thead>\n",
       "  <tbody>\n",
       "    <tr>\n",
       "      <th>0</th>\n",
       "      <td>LP001002</td>\n",
       "      <td>Male</td>\n",
       "      <td>No</td>\n",
       "      <td>0</td>\n",
       "      <td>Graduate</td>\n",
       "      <td>No</td>\n",
       "      <td>5849.0</td>\n",
       "      <td>0.0</td>\n",
       "      <td>NaN</td>\n",
       "      <td>360.0</td>\n",
       "      <td>1.0</td>\n",
       "      <td>Urban</td>\n",
       "      <td>Y</td>\n",
       "    </tr>\n",
       "    <tr>\n",
       "      <th>1</th>\n",
       "      <td>LP001003</td>\n",
       "      <td>Male</td>\n",
       "      <td>Yes</td>\n",
       "      <td>1</td>\n",
       "      <td>Graduate</td>\n",
       "      <td>No</td>\n",
       "      <td>NaN</td>\n",
       "      <td>1508.0</td>\n",
       "      <td>128.0</td>\n",
       "      <td>360.0</td>\n",
       "      <td>1.0</td>\n",
       "      <td>Rural</td>\n",
       "      <td>N</td>\n",
       "    </tr>\n",
       "    <tr>\n",
       "      <th>2</th>\n",
       "      <td>LP001005</td>\n",
       "      <td>Male</td>\n",
       "      <td>Yes</td>\n",
       "      <td>0</td>\n",
       "      <td>Graduate</td>\n",
       "      <td>Yes</td>\n",
       "      <td>3000.0</td>\n",
       "      <td>0.0</td>\n",
       "      <td>66.0</td>\n",
       "      <td>360.0</td>\n",
       "      <td>1.0</td>\n",
       "      <td>Urban</td>\n",
       "      <td>Y</td>\n",
       "    </tr>\n",
       "  </tbody>\n",
       "</table>\n",
       "</div>"
      ],
      "text/plain": [
       "    Loan_ID Gender Married Dependents Education Self_Employed  \\\n",
       "0  LP001002   Male      No          0  Graduate            No   \n",
       "1  LP001003   Male     Yes          1  Graduate            No   \n",
       "2  LP001005   Male     Yes          0  Graduate           Yes   \n",
       "\n",
       "   ApplicantIncome  CoapplicantIncome  LoanAmount  Loan_Amount_Term  \\\n",
       "0           5849.0                0.0         NaN             360.0   \n",
       "1              NaN             1508.0       128.0             360.0   \n",
       "2           3000.0                0.0        66.0             360.0   \n",
       "\n",
       "   Credit_History Property_Area Loan_Status  \n",
       "0             1.0         Urban           Y  \n",
       "1             1.0         Rural           N  \n",
       "2             1.0         Urban           Y  "
      ]
     },
     "execution_count": 3,
     "metadata": {},
     "output_type": "execute_result"
    }
   ],
   "source": [
    "A.head(3)"
   ]
  },
  {
   "cell_type": "code",
   "execution_count": 4,
   "id": "6d87cd61",
   "metadata": {},
   "outputs": [
    {
     "data": {
      "text/html": [
       "<div>\n",
       "<style scoped>\n",
       "    .dataframe tbody tr th:only-of-type {\n",
       "        vertical-align: middle;\n",
       "    }\n",
       "\n",
       "    .dataframe tbody tr th {\n",
       "        vertical-align: top;\n",
       "    }\n",
       "\n",
       "    .dataframe thead th {\n",
       "        text-align: right;\n",
       "    }\n",
       "</style>\n",
       "<table border=\"1\" class=\"dataframe\">\n",
       "  <thead>\n",
       "    <tr style=\"text-align: right;\">\n",
       "      <th></th>\n",
       "      <th>Loan_ID</th>\n",
       "      <th>Gender</th>\n",
       "      <th>Married</th>\n",
       "      <th>Dependents</th>\n",
       "      <th>Education</th>\n",
       "      <th>Self_Employed</th>\n",
       "      <th>ApplicantIncome</th>\n",
       "      <th>CoapplicantIncome</th>\n",
       "      <th>LoanAmount</th>\n",
       "      <th>Loan_Amount_Term</th>\n",
       "      <th>Credit_History</th>\n",
       "      <th>Property_Area</th>\n",
       "    </tr>\n",
       "  </thead>\n",
       "  <tbody>\n",
       "    <tr>\n",
       "      <th>0</th>\n",
       "      <td>LP001015</td>\n",
       "      <td>Male</td>\n",
       "      <td>Yes</td>\n",
       "      <td>0</td>\n",
       "      <td>Graduate</td>\n",
       "      <td>No</td>\n",
       "      <td>5720</td>\n",
       "      <td>0</td>\n",
       "      <td>110.0</td>\n",
       "      <td>360.0</td>\n",
       "      <td>1.0</td>\n",
       "      <td>Urban</td>\n",
       "    </tr>\n",
       "    <tr>\n",
       "      <th>1</th>\n",
       "      <td>LP001022</td>\n",
       "      <td>Male</td>\n",
       "      <td>Yes</td>\n",
       "      <td>1</td>\n",
       "      <td>Graduate</td>\n",
       "      <td>No</td>\n",
       "      <td>3076</td>\n",
       "      <td>1500</td>\n",
       "      <td>126.0</td>\n",
       "      <td>360.0</td>\n",
       "      <td>1.0</td>\n",
       "      <td>Urban</td>\n",
       "    </tr>\n",
       "    <tr>\n",
       "      <th>2</th>\n",
       "      <td>LP001031</td>\n",
       "      <td>Male</td>\n",
       "      <td>Yes</td>\n",
       "      <td>2</td>\n",
       "      <td>Graduate</td>\n",
       "      <td>No</td>\n",
       "      <td>5000</td>\n",
       "      <td>1800</td>\n",
       "      <td>208.0</td>\n",
       "      <td>360.0</td>\n",
       "      <td>1.0</td>\n",
       "      <td>Urban</td>\n",
       "    </tr>\n",
       "  </tbody>\n",
       "</table>\n",
       "</div>"
      ],
      "text/plain": [
       "    Loan_ID Gender Married Dependents Education Self_Employed  \\\n",
       "0  LP001015   Male     Yes          0  Graduate            No   \n",
       "1  LP001022   Male     Yes          1  Graduate            No   \n",
       "2  LP001031   Male     Yes          2  Graduate            No   \n",
       "\n",
       "   ApplicantIncome  CoapplicantIncome  LoanAmount  Loan_Amount_Term  \\\n",
       "0             5720                  0       110.0             360.0   \n",
       "1             3076               1500       126.0             360.0   \n",
       "2             5000               1800       208.0             360.0   \n",
       "\n",
       "   Credit_History Property_Area  \n",
       "0             1.0         Urban  \n",
       "1             1.0         Urban  \n",
       "2             1.0         Urban  "
      ]
     },
     "execution_count": 4,
     "metadata": {},
     "output_type": "execute_result"
    }
   ],
   "source": [
    "B.head(3)"
   ]
  },
  {
   "cell_type": "code",
   "execution_count": 5,
   "id": "4c3c1e5f",
   "metadata": {},
   "outputs": [
    {
     "name": "stdout",
     "output_type": "stream",
     "text": [
      "<class 'pandas.core.frame.DataFrame'>\n",
      "RangeIndex: 614 entries, 0 to 613\n",
      "Data columns (total 13 columns):\n",
      " #   Column             Non-Null Count  Dtype  \n",
      "---  ------             --------------  -----  \n",
      " 0   Loan_ID            614 non-null    object \n",
      " 1   Gender             599 non-null    object \n",
      " 2   Married            611 non-null    object \n",
      " 3   Dependents         599 non-null    object \n",
      " 4   Education          613 non-null    object \n",
      " 5   Self_Employed      582 non-null    object \n",
      " 6   ApplicantIncome    612 non-null    float64\n",
      " 7   CoapplicantIncome  613 non-null    float64\n",
      " 8   LoanAmount         592 non-null    float64\n",
      " 9   Loan_Amount_Term   600 non-null    float64\n",
      " 10  Credit_History     564 non-null    float64\n",
      " 11  Property_Area      614 non-null    object \n",
      " 12  Loan_Status        614 non-null    object \n",
      "dtypes: float64(5), object(8)\n",
      "memory usage: 62.5+ KB\n"
     ]
    }
   ],
   "source": [
    "A.info()"
   ]
  },
  {
   "cell_type": "code",
   "execution_count": 6,
   "id": "c31d3031",
   "metadata": {},
   "outputs": [
    {
     "data": {
      "text/html": [
       "<div>\n",
       "<style scoped>\n",
       "    .dataframe tbody tr th:only-of-type {\n",
       "        vertical-align: middle;\n",
       "    }\n",
       "\n",
       "    .dataframe tbody tr th {\n",
       "        vertical-align: top;\n",
       "    }\n",
       "\n",
       "    .dataframe thead th {\n",
       "        text-align: right;\n",
       "    }\n",
       "</style>\n",
       "<table border=\"1\" class=\"dataframe\">\n",
       "  <thead>\n",
       "    <tr style=\"text-align: right;\">\n",
       "      <th></th>\n",
       "      <th>ApplicantIncome</th>\n",
       "      <th>CoapplicantIncome</th>\n",
       "      <th>LoanAmount</th>\n",
       "      <th>Loan_Amount_Term</th>\n",
       "      <th>Credit_History</th>\n",
       "    </tr>\n",
       "  </thead>\n",
       "  <tbody>\n",
       "    <tr>\n",
       "      <th>count</th>\n",
       "      <td>612.000000</td>\n",
       "      <td>613.000000</td>\n",
       "      <td>592.000000</td>\n",
       "      <td>600.00000</td>\n",
       "      <td>564.000000</td>\n",
       "    </tr>\n",
       "    <tr>\n",
       "      <th>mean</th>\n",
       "      <td>5405.540850</td>\n",
       "      <td>1620.888940</td>\n",
       "      <td>146.412162</td>\n",
       "      <td>342.00000</td>\n",
       "      <td>0.842199</td>\n",
       "    </tr>\n",
       "    <tr>\n",
       "      <th>std</th>\n",
       "      <td>6118.914057</td>\n",
       "      <td>2928.624748</td>\n",
       "      <td>85.587325</td>\n",
       "      <td>65.12041</td>\n",
       "      <td>0.364878</td>\n",
       "    </tr>\n",
       "    <tr>\n",
       "      <th>min</th>\n",
       "      <td>150.000000</td>\n",
       "      <td>0.000000</td>\n",
       "      <td>9.000000</td>\n",
       "      <td>12.00000</td>\n",
       "      <td>0.000000</td>\n",
       "    </tr>\n",
       "    <tr>\n",
       "      <th>25%</th>\n",
       "      <td>2875.750000</td>\n",
       "      <td>0.000000</td>\n",
       "      <td>100.000000</td>\n",
       "      <td>360.00000</td>\n",
       "      <td>1.000000</td>\n",
       "    </tr>\n",
       "    <tr>\n",
       "      <th>50%</th>\n",
       "      <td>3806.000000</td>\n",
       "      <td>1167.000000</td>\n",
       "      <td>128.000000</td>\n",
       "      <td>360.00000</td>\n",
       "      <td>1.000000</td>\n",
       "    </tr>\n",
       "    <tr>\n",
       "      <th>75%</th>\n",
       "      <td>5803.750000</td>\n",
       "      <td>2302.000000</td>\n",
       "      <td>168.000000</td>\n",
       "      <td>360.00000</td>\n",
       "      <td>1.000000</td>\n",
       "    </tr>\n",
       "    <tr>\n",
       "      <th>max</th>\n",
       "      <td>81000.000000</td>\n",
       "      <td>41667.000000</td>\n",
       "      <td>700.000000</td>\n",
       "      <td>480.00000</td>\n",
       "      <td>1.000000</td>\n",
       "    </tr>\n",
       "  </tbody>\n",
       "</table>\n",
       "</div>"
      ],
      "text/plain": [
       "       ApplicantIncome  CoapplicantIncome  LoanAmount  Loan_Amount_Term  \\\n",
       "count       612.000000         613.000000  592.000000         600.00000   \n",
       "mean       5405.540850        1620.888940  146.412162         342.00000   \n",
       "std        6118.914057        2928.624748   85.587325          65.12041   \n",
       "min         150.000000           0.000000    9.000000          12.00000   \n",
       "25%        2875.750000           0.000000  100.000000         360.00000   \n",
       "50%        3806.000000        1167.000000  128.000000         360.00000   \n",
       "75%        5803.750000        2302.000000  168.000000         360.00000   \n",
       "max       81000.000000       41667.000000  700.000000         480.00000   \n",
       "\n",
       "       Credit_History  \n",
       "count      564.000000  \n",
       "mean         0.842199  \n",
       "std          0.364878  \n",
       "min          0.000000  \n",
       "25%          1.000000  \n",
       "50%          1.000000  \n",
       "75%          1.000000  \n",
       "max          1.000000  "
      ]
     },
     "execution_count": 6,
     "metadata": {},
     "output_type": "execute_result"
    }
   ],
   "source": [
    "A.describe()"
   ]
  },
  {
   "cell_type": "markdown",
   "id": "bdcd7a07",
   "metadata": {},
   "source": [
    "# Missing Data Treatement"
   ]
  },
  {
   "cell_type": "code",
   "execution_count": 7,
   "id": "c014e100",
   "metadata": {},
   "outputs": [
    {
     "data": {
      "text/plain": [
       "Loan_ID               0\n",
       "Gender               15\n",
       "Married               3\n",
       "Dependents           15\n",
       "Education             1\n",
       "Self_Employed        32\n",
       "ApplicantIncome       2\n",
       "CoapplicantIncome     1\n",
       "LoanAmount           22\n",
       "Loan_Amount_Term     14\n",
       "Credit_History       50\n",
       "Property_Area         0\n",
       "Loan_Status           0\n",
       "dtype: int64"
      ]
     },
     "execution_count": 7,
     "metadata": {},
     "output_type": "execute_result"
    }
   ],
   "source": [
    "A.isna().sum()"
   ]
  },
  {
   "cell_type": "code",
   "execution_count": 8,
   "id": "60fe0753",
   "metadata": {},
   "outputs": [
    {
     "data": {
      "text/plain": [
       "Loan_ID               0\n",
       "Gender               11\n",
       "Married               0\n",
       "Dependents           10\n",
       "Education             0\n",
       "Self_Employed        23\n",
       "ApplicantIncome       0\n",
       "CoapplicantIncome     0\n",
       "LoanAmount            5\n",
       "Loan_Amount_Term      6\n",
       "Credit_History       29\n",
       "Property_Area         0\n",
       "dtype: int64"
      ]
     },
     "execution_count": 8,
     "metadata": {},
     "output_type": "execute_result"
    }
   ],
   "source": [
    "B.isna().sum()"
   ]
  },
  {
   "cell_type": "code",
   "execution_count": 9,
   "id": "f2fc322c",
   "metadata": {},
   "outputs": [
    {
     "data": {
      "text/plain": [
       "360.0    512\n",
       "180.0     44\n",
       "480.0     15\n",
       "300.0     13\n",
       "84.0       4\n",
       "240.0      4\n",
       "120.0      3\n",
       "36.0       2\n",
       "60.0       2\n",
       "12.0       1\n",
       "Name: Loan_Amount_Term, dtype: int64"
      ]
     },
     "execution_count": 9,
     "metadata": {},
     "output_type": "execute_result"
    }
   ],
   "source": [
    "A.Loan_Amount_Term.value_counts()"
   ]
  },
  {
   "cell_type": "markdown",
   "id": "d93e6804",
   "metadata": {},
   "source": [
    "For Loan_Amount_term we can not replace missing data by mean, by doing this it will create different value"
   ]
  },
  {
   "cell_type": "code",
   "execution_count": 10,
   "id": "8b644596",
   "metadata": {},
   "outputs": [],
   "source": [
    "A[\"Loan_Amount_Term\"]=A[\"Loan_Amount_Term\"].fillna(A[\"Loan_Amount_Term\"].mode()[0])"
   ]
  },
  {
   "cell_type": "code",
   "execution_count": 11,
   "id": "5b7e3710",
   "metadata": {},
   "outputs": [],
   "source": [
    "B[\"Loan_Amount_Term\"]=B[\"Loan_Amount_Term\"].fillna(B[\"Loan_Amount_Term\"].mode()[0])"
   ]
  },
  {
   "cell_type": "code",
   "execution_count": 12,
   "id": "d95885df",
   "metadata": {},
   "outputs": [],
   "source": [
    "for i in A.columns:\n",
    "    if(A[i].dtypes==\"object\"):\n",
    "        x=A[i].mode()[0]\n",
    "        A[i]=A[i].fillna(x)\n",
    "    else:\n",
    "        x=A[i].mean()\n",
    "        A[i]=A[i].fillna(x)"
   ]
  },
  {
   "cell_type": "code",
   "execution_count": 13,
   "id": "3d680bb5",
   "metadata": {},
   "outputs": [],
   "source": [
    "for i in B.columns:\n",
    "    if(B[i].dtypes==\"object\"):\n",
    "        x=B[i].mode()[0]\n",
    "        B[i]=B[i].fillna(x)\n",
    "    else:\n",
    "        x=B[i].mean()\n",
    "        B[i]=B[i].fillna(x)"
   ]
  },
  {
   "cell_type": "code",
   "execution_count": 14,
   "id": "fda4cbc2",
   "metadata": {},
   "outputs": [
    {
     "data": {
      "text/plain": [
       "Loan_ID              0\n",
       "Gender               0\n",
       "Married              0\n",
       "Dependents           0\n",
       "Education            0\n",
       "Self_Employed        0\n",
       "ApplicantIncome      0\n",
       "CoapplicantIncome    0\n",
       "LoanAmount           0\n",
       "Loan_Amount_Term     0\n",
       "Credit_History       0\n",
       "Property_Area        0\n",
       "Loan_Status          0\n",
       "dtype: int64"
      ]
     },
     "execution_count": 14,
     "metadata": {},
     "output_type": "execute_result"
    }
   ],
   "source": [
    "A.isna().sum()"
   ]
  },
  {
   "cell_type": "code",
   "execution_count": 15,
   "id": "7a978d8d",
   "metadata": {},
   "outputs": [
    {
     "data": {
      "text/plain": [
       "Loan_ID              0\n",
       "Gender               0\n",
       "Married              0\n",
       "Dependents           0\n",
       "Education            0\n",
       "Self_Employed        0\n",
       "ApplicantIncome      0\n",
       "CoapplicantIncome    0\n",
       "LoanAmount           0\n",
       "Loan_Amount_Term     0\n",
       "Credit_History       0\n",
       "Property_Area        0\n",
       "dtype: int64"
      ]
     },
     "execution_count": 15,
     "metadata": {},
     "output_type": "execute_result"
    }
   ],
   "source": [
    "B.isna().sum()"
   ]
  },
  {
   "cell_type": "markdown",
   "id": "f4f24255",
   "metadata": {},
   "source": [
    "# EDA"
   ]
  },
  {
   "cell_type": "code",
   "execution_count": 16,
   "id": "8d46c9d7",
   "metadata": {},
   "outputs": [],
   "source": [
    "cat_list=A[[\"Gender\",\"Married\",\"Dependents\",\"Education\",\"Self_Employed\",\"Property_Area\"]]"
   ]
  },
  {
   "cell_type": "code",
   "execution_count": 17,
   "id": "726074d0",
   "metadata": {},
   "outputs": [
    {
     "data": {
      "image/png": "[encoded data removed]",
      "text/plain": [
       "<Figure size 1080x720 with 6 Axes>"
      ]
     },
     "metadata": {
      "needs_background": "light"
     },
     "output_type": "display_data"
    }
   ],
   "source": [
    "plt.figure(figsize=(15,10))\n",
    "x=1\n",
    "for i in cat_list:\n",
    "    plt.subplot(2,3,x)\n",
    "    sb.countplot(x=i,hue=\"Loan_Status\",data=A)\n",
    "    x=x+1"
   ]
  },
  {
   "cell_type": "markdown",
   "id": "85f0986b",
   "metadata": {},
   "source": [
    "from the above EDA we got to learn that high count of loan approval for\n",
    "who are male\n",
    "Who are married\n",
    "who has no dependents.\n",
    "who are graduated\n",
    "who are not self employed"
   ]
  },
  {
   "cell_type": "markdown",
   "id": "7004572e",
   "metadata": {},
   "source": [
    "# Prolem Statement 1 checking eligibility of the Customer"
   ]
  },
  {
   "cell_type": "code",
   "execution_count": 18,
   "id": "be6a0763",
   "metadata": {},
   "outputs": [],
   "source": [
    "A1=A\n",
    "B1=B"
   ]
  },
  {
   "cell_type": "code",
   "execution_count": 19,
   "id": "ed8f3ddc",
   "metadata": {},
   "outputs": [],
   "source": [
    "A1[\"Total_income\"]=A1[\"ApplicantIncome\"]+A1[\"CoapplicantIncome\"]\n",
    "B1[\"Total_income\"]=B1[\"ApplicantIncome\"]+B1[\"CoapplicantIncome\"]"
   ]
  },
  {
   "cell_type": "code",
   "execution_count": 20,
   "id": "f32bf3f2",
   "metadata": {},
   "outputs": [
    {
     "data": {
      "text/html": [
       "<div>\n",
       "<style scoped>\n",
       "    .dataframe tbody tr th:only-of-type {\n",
       "        vertical-align: middle;\n",
       "    }\n",
       "\n",
       "    .dataframe tbody tr th {\n",
       "        vertical-align: top;\n",
       "    }\n",
       "\n",
       "    .dataframe thead th {\n",
       "        text-align: right;\n",
       "    }\n",
       "</style>\n",
       "<table border=\"1\" class=\"dataframe\">\n",
       "  <thead>\n",
       "    <tr style=\"text-align: right;\">\n",
       "      <th></th>\n",
       "      <th>Loan_ID</th>\n",
       "      <th>Gender</th>\n",
       "      <th>Married</th>\n",
       "      <th>Dependents</th>\n",
       "      <th>Education</th>\n",
       "      <th>Self_Employed</th>\n",
       "      <th>ApplicantIncome</th>\n",
       "      <th>CoapplicantIncome</th>\n",
       "      <th>LoanAmount</th>\n",
       "      <th>Loan_Amount_Term</th>\n",
       "      <th>Credit_History</th>\n",
       "      <th>Property_Area</th>\n",
       "      <th>Loan_Status</th>\n",
       "      <th>Total_income</th>\n",
       "    </tr>\n",
       "  </thead>\n",
       "  <tbody>\n",
       "    <tr>\n",
       "      <th>0</th>\n",
       "      <td>LP001002</td>\n",
       "      <td>Male</td>\n",
       "      <td>No</td>\n",
       "      <td>0</td>\n",
       "      <td>Graduate</td>\n",
       "      <td>No</td>\n",
       "      <td>5849.00000</td>\n",
       "      <td>0.0</td>\n",
       "      <td>146.412162</td>\n",
       "      <td>360.0</td>\n",
       "      <td>1.0</td>\n",
       "      <td>Urban</td>\n",
       "      <td>Y</td>\n",
       "      <td>5849.00000</td>\n",
       "    </tr>\n",
       "    <tr>\n",
       "      <th>1</th>\n",
       "      <td>LP001003</td>\n",
       "      <td>Male</td>\n",
       "      <td>Yes</td>\n",
       "      <td>1</td>\n",
       "      <td>Graduate</td>\n",
       "      <td>No</td>\n",
       "      <td>5405.54085</td>\n",
       "      <td>1508.0</td>\n",
       "      <td>128.000000</td>\n",
       "      <td>360.0</td>\n",
       "      <td>1.0</td>\n",
       "      <td>Rural</td>\n",
       "      <td>N</td>\n",
       "      <td>6913.54085</td>\n",
       "    </tr>\n",
       "    <tr>\n",
       "      <th>2</th>\n",
       "      <td>LP001005</td>\n",
       "      <td>Male</td>\n",
       "      <td>Yes</td>\n",
       "      <td>0</td>\n",
       "      <td>Graduate</td>\n",
       "      <td>Yes</td>\n",
       "      <td>3000.00000</td>\n",
       "      <td>0.0</td>\n",
       "      <td>66.000000</td>\n",
       "      <td>360.0</td>\n",
       "      <td>1.0</td>\n",
       "      <td>Urban</td>\n",
       "      <td>Y</td>\n",
       "      <td>3000.00000</td>\n",
       "    </tr>\n",
       "  </tbody>\n",
       "</table>\n",
       "</div>"
      ],
      "text/plain": [
       "    Loan_ID Gender Married Dependents Education Self_Employed  \\\n",
       "0  LP001002   Male      No          0  Graduate            No   \n",
       "1  LP001003   Male     Yes          1  Graduate            No   \n",
       "2  LP001005   Male     Yes          0  Graduate           Yes   \n",
       "\n",
       "   ApplicantIncome  CoapplicantIncome  LoanAmount  Loan_Amount_Term  \\\n",
       "0       5849.00000                0.0  146.412162             360.0   \n",
       "1       5405.54085             1508.0  128.000000             360.0   \n",
       "2       3000.00000                0.0   66.000000             360.0   \n",
       "\n",
       "   Credit_History Property_Area Loan_Status  Total_income  \n",
       "0             1.0         Urban           Y    5849.00000  \n",
       "1             1.0         Rural           N    6913.54085  \n",
       "2             1.0         Urban           Y    3000.00000  "
      ]
     },
     "execution_count": 20,
     "metadata": {},
     "output_type": "execute_result"
    }
   ],
   "source": [
    "A1.head(3)"
   ]
  },
  {
   "cell_type": "code",
   "execution_count": 21,
   "id": "6dd7ac6a",
   "metadata": {},
   "outputs": [
    {
     "data": {
      "text/html": [
       "<div>\n",
       "<style scoped>\n",
       "    .dataframe tbody tr th:only-of-type {\n",
       "        vertical-align: middle;\n",
       "    }\n",
       "\n",
       "    .dataframe tbody tr th {\n",
       "        vertical-align: top;\n",
       "    }\n",
       "\n",
       "    .dataframe thead th {\n",
       "        text-align: right;\n",
       "    }\n",
       "</style>\n",
       "<table border=\"1\" class=\"dataframe\">\n",
       "  <thead>\n",
       "    <tr style=\"text-align: right;\">\n",
       "      <th></th>\n",
       "      <th>Loan_ID</th>\n",
       "      <th>Gender</th>\n",
       "      <th>Married</th>\n",
       "      <th>Dependents</th>\n",
       "      <th>Education</th>\n",
       "      <th>Self_Employed</th>\n",
       "      <th>ApplicantIncome</th>\n",
       "      <th>CoapplicantIncome</th>\n",
       "      <th>LoanAmount</th>\n",
       "      <th>Loan_Amount_Term</th>\n",
       "      <th>Credit_History</th>\n",
       "      <th>Property_Area</th>\n",
       "      <th>Total_income</th>\n",
       "    </tr>\n",
       "  </thead>\n",
       "  <tbody>\n",
       "    <tr>\n",
       "      <th>0</th>\n",
       "      <td>LP001015</td>\n",
       "      <td>Male</td>\n",
       "      <td>Yes</td>\n",
       "      <td>0</td>\n",
       "      <td>Graduate</td>\n",
       "      <td>No</td>\n",
       "      <td>5720</td>\n",
       "      <td>0</td>\n",
       "      <td>110.0</td>\n",
       "      <td>360.0</td>\n",
       "      <td>1.0</td>\n",
       "      <td>Urban</td>\n",
       "      <td>5720</td>\n",
       "    </tr>\n",
       "    <tr>\n",
       "      <th>1</th>\n",
       "      <td>LP001022</td>\n",
       "      <td>Male</td>\n",
       "      <td>Yes</td>\n",
       "      <td>1</td>\n",
       "      <td>Graduate</td>\n",
       "      <td>No</td>\n",
       "      <td>3076</td>\n",
       "      <td>1500</td>\n",
       "      <td>126.0</td>\n",
       "      <td>360.0</td>\n",
       "      <td>1.0</td>\n",
       "      <td>Urban</td>\n",
       "      <td>4576</td>\n",
       "    </tr>\n",
       "    <tr>\n",
       "      <th>2</th>\n",
       "      <td>LP001031</td>\n",
       "      <td>Male</td>\n",
       "      <td>Yes</td>\n",
       "      <td>2</td>\n",
       "      <td>Graduate</td>\n",
       "      <td>No</td>\n",
       "      <td>5000</td>\n",
       "      <td>1800</td>\n",
       "      <td>208.0</td>\n",
       "      <td>360.0</td>\n",
       "      <td>1.0</td>\n",
       "      <td>Urban</td>\n",
       "      <td>6800</td>\n",
       "    </tr>\n",
       "  </tbody>\n",
       "</table>\n",
       "</div>"
      ],
      "text/plain": [
       "    Loan_ID Gender Married Dependents Education Self_Employed  \\\n",
       "0  LP001015   Male     Yes          0  Graduate            No   \n",
       "1  LP001022   Male     Yes          1  Graduate            No   \n",
       "2  LP001031   Male     Yes          2  Graduate            No   \n",
       "\n",
       "   ApplicantIncome  CoapplicantIncome  LoanAmount  Loan_Amount_Term  \\\n",
       "0             5720                  0       110.0             360.0   \n",
       "1             3076               1500       126.0             360.0   \n",
       "2             5000               1800       208.0             360.0   \n",
       "\n",
       "   Credit_History Property_Area  Total_income  \n",
       "0             1.0         Urban          5720  \n",
       "1             1.0         Urban          4576  \n",
       "2             1.0         Urban          6800  "
      ]
     },
     "execution_count": 21,
     "metadata": {},
     "output_type": "execute_result"
    }
   ],
   "source": [
    "B1.head(3)"
   ]
  },
  {
   "cell_type": "code",
   "execution_count": 22,
   "id": "434e05d6",
   "metadata": {},
   "outputs": [],
   "source": [
    "A1=A1.drop(labels=[\"ApplicantIncome\",\"CoapplicantIncome\"],axis=1)\n",
    "B1=B1.drop(labels=[\"ApplicantIncome\",\"CoapplicantIncome\"],axis=1)"
   ]
  },
  {
   "cell_type": "markdown",
   "id": "5876e89d",
   "metadata": {},
   "source": [
    "# Define X AND Y"
   ]
  },
  {
   "cell_type": "code",
   "execution_count": 23,
   "id": "7275c52c",
   "metadata": {},
   "outputs": [],
   "source": [
    "Y=A1[[\"Loan_Status\"]]\n",
    "X=A1.drop(labels=[\"Loan_Status\",\"Loan_ID\"],axis=1)"
   ]
  },
  {
   "cell_type": "markdown",
   "id": "dc99e725",
   "metadata": {},
   "source": [
    "# Preprocessing or one hot encoding"
   ]
  },
  {
   "cell_type": "code",
   "execution_count": 24,
   "id": "fa478449",
   "metadata": {},
   "outputs": [],
   "source": [
    "Xnew=pd.get_dummies(X)"
   ]
  },
  {
   "cell_type": "code",
   "execution_count": 25,
   "id": "484e2499",
   "metadata": {},
   "outputs": [
    {
     "data": {
      "text/html": [
       "<div>\n",
       "<style scoped>\n",
       "    .dataframe tbody tr th:only-of-type {\n",
       "        vertical-align: middle;\n",
       "    }\n",
       "\n",
       "    .dataframe tbody tr th {\n",
       "        vertical-align: top;\n",
       "    }\n",
       "\n",
       "    .dataframe thead th {\n",
       "        text-align: right;\n",
       "    }\n",
       "</style>\n",
       "<table border=\"1\" class=\"dataframe\">\n",
       "  <thead>\n",
       "    <tr style=\"text-align: right;\">\n",
       "      <th></th>\n",
       "      <th>LoanAmount</th>\n",
       "      <th>Loan_Amount_Term</th>\n",
       "      <th>Credit_History</th>\n",
       "      <th>Total_income</th>\n",
       "      <th>Gender_Female</th>\n",
       "      <th>Gender_Male</th>\n",
       "      <th>Married_No</th>\n",
       "      <th>Married_Yes</th>\n",
       "      <th>Dependents_0</th>\n",
       "      <th>Dependents_1</th>\n",
       "      <th>Dependents_2</th>\n",
       "      <th>Dependents_3+</th>\n",
       "      <th>Education_Graduate</th>\n",
       "      <th>Education_Not Graduate</th>\n",
       "      <th>Self_Employed_No</th>\n",
       "      <th>Self_Employed_Yes</th>\n",
       "      <th>Property_Area_Rural</th>\n",
       "      <th>Property_Area_Semiurban</th>\n",
       "      <th>Property_Area_Urban</th>\n",
       "    </tr>\n",
       "  </thead>\n",
       "  <tbody>\n",
       "    <tr>\n",
       "      <th>0</th>\n",
       "      <td>146.412162</td>\n",
       "      <td>360.0</td>\n",
       "      <td>1.0</td>\n",
       "      <td>5849.00000</td>\n",
       "      <td>0</td>\n",
       "      <td>1</td>\n",
       "      <td>1</td>\n",
       "      <td>0</td>\n",
       "      <td>1</td>\n",
       "      <td>0</td>\n",
       "      <td>0</td>\n",
       "      <td>0</td>\n",
       "      <td>1</td>\n",
       "      <td>0</td>\n",
       "      <td>1</td>\n",
       "      <td>0</td>\n",
       "      <td>0</td>\n",
       "      <td>0</td>\n",
       "      <td>1</td>\n",
       "    </tr>\n",
       "    <tr>\n",
       "      <th>1</th>\n",
       "      <td>128.000000</td>\n",
       "      <td>360.0</td>\n",
       "      <td>1.0</td>\n",
       "      <td>6913.54085</td>\n",
       "      <td>0</td>\n",
       "      <td>1</td>\n",
       "      <td>0</td>\n",
       "      <td>1</td>\n",
       "      <td>0</td>\n",
       "      <td>1</td>\n",
       "      <td>0</td>\n",
       "      <td>0</td>\n",
       "      <td>1</td>\n",
       "      <td>0</td>\n",
       "      <td>1</td>\n",
       "      <td>0</td>\n",
       "      <td>1</td>\n",
       "      <td>0</td>\n",
       "      <td>0</td>\n",
       "    </tr>\n",
       "    <tr>\n",
       "      <th>2</th>\n",
       "      <td>66.000000</td>\n",
       "      <td>360.0</td>\n",
       "      <td>1.0</td>\n",
       "      <td>3000.00000</td>\n",
       "      <td>0</td>\n",
       "      <td>1</td>\n",
       "      <td>0</td>\n",
       "      <td>1</td>\n",
       "      <td>1</td>\n",
       "      <td>0</td>\n",
       "      <td>0</td>\n",
       "      <td>0</td>\n",
       "      <td>1</td>\n",
       "      <td>0</td>\n",
       "      <td>0</td>\n",
       "      <td>1</td>\n",
       "      <td>0</td>\n",
       "      <td>0</td>\n",
       "      <td>1</td>\n",
       "    </tr>\n",
       "    <tr>\n",
       "      <th>3</th>\n",
       "      <td>120.000000</td>\n",
       "      <td>360.0</td>\n",
       "      <td>1.0</td>\n",
       "      <td>4941.00000</td>\n",
       "      <td>0</td>\n",
       "      <td>1</td>\n",
       "      <td>0</td>\n",
       "      <td>1</td>\n",
       "      <td>1</td>\n",
       "      <td>0</td>\n",
       "      <td>0</td>\n",
       "      <td>0</td>\n",
       "      <td>0</td>\n",
       "      <td>1</td>\n",
       "      <td>1</td>\n",
       "      <td>0</td>\n",
       "      <td>0</td>\n",
       "      <td>0</td>\n",
       "      <td>1</td>\n",
       "    </tr>\n",
       "    <tr>\n",
       "      <th>4</th>\n",
       "      <td>141.000000</td>\n",
       "      <td>360.0</td>\n",
       "      <td>1.0</td>\n",
       "      <td>6000.00000</td>\n",
       "      <td>0</td>\n",
       "      <td>1</td>\n",
       "      <td>1</td>\n",
       "      <td>0</td>\n",
       "      <td>1</td>\n",
       "      <td>0</td>\n",
       "      <td>0</td>\n",
       "      <td>0</td>\n",
       "      <td>1</td>\n",
       "      <td>0</td>\n",
       "      <td>1</td>\n",
       "      <td>0</td>\n",
       "      <td>0</td>\n",
       "      <td>0</td>\n",
       "      <td>1</td>\n",
       "    </tr>\n",
       "    <tr>\n",
       "      <th>...</th>\n",
       "      <td>...</td>\n",
       "      <td>...</td>\n",
       "      <td>...</td>\n",
       "      <td>...</td>\n",
       "      <td>...</td>\n",
       "      <td>...</td>\n",
       "      <td>...</td>\n",
       "      <td>...</td>\n",
       "      <td>...</td>\n",
       "      <td>...</td>\n",
       "      <td>...</td>\n",
       "      <td>...</td>\n",
       "      <td>...</td>\n",
       "      <td>...</td>\n",
       "      <td>...</td>\n",
       "      <td>...</td>\n",
       "      <td>...</td>\n",
       "      <td>...</td>\n",
       "      <td>...</td>\n",
       "    </tr>\n",
       "    <tr>\n",
       "      <th>609</th>\n",
       "      <td>71.000000</td>\n",
       "      <td>360.0</td>\n",
       "      <td>1.0</td>\n",
       "      <td>2900.00000</td>\n",
       "      <td>1</td>\n",
       "      <td>0</td>\n",
       "      <td>1</td>\n",
       "      <td>0</td>\n",
       "      <td>1</td>\n",
       "      <td>0</td>\n",
       "      <td>0</td>\n",
       "      <td>0</td>\n",
       "      <td>1</td>\n",
       "      <td>0</td>\n",
       "      <td>1</td>\n",
       "      <td>0</td>\n",
       "      <td>1</td>\n",
       "      <td>0</td>\n",
       "      <td>0</td>\n",
       "    </tr>\n",
       "    <tr>\n",
       "      <th>610</th>\n",
       "      <td>40.000000</td>\n",
       "      <td>180.0</td>\n",
       "      <td>1.0</td>\n",
       "      <td>4106.00000</td>\n",
       "      <td>0</td>\n",
       "      <td>1</td>\n",
       "      <td>0</td>\n",
       "      <td>1</td>\n",
       "      <td>0</td>\n",
       "      <td>0</td>\n",
       "      <td>0</td>\n",
       "      <td>1</td>\n",
       "      <td>1</td>\n",
       "      <td>0</td>\n",
       "      <td>1</td>\n",
       "      <td>0</td>\n",
       "      <td>1</td>\n",
       "      <td>0</td>\n",
       "      <td>0</td>\n",
       "    </tr>\n",
       "    <tr>\n",
       "      <th>611</th>\n",
       "      <td>253.000000</td>\n",
       "      <td>360.0</td>\n",
       "      <td>1.0</td>\n",
       "      <td>8312.00000</td>\n",
       "      <td>0</td>\n",
       "      <td>1</td>\n",
       "      <td>0</td>\n",
       "      <td>1</td>\n",
       "      <td>0</td>\n",
       "      <td>1</td>\n",
       "      <td>0</td>\n",
       "      <td>0</td>\n",
       "      <td>1</td>\n",
       "      <td>0</td>\n",
       "      <td>1</td>\n",
       "      <td>0</td>\n",
       "      <td>0</td>\n",
       "      <td>0</td>\n",
       "      <td>1</td>\n",
       "    </tr>\n",
       "    <tr>\n",
       "      <th>612</th>\n",
       "      <td>187.000000</td>\n",
       "      <td>360.0</td>\n",
       "      <td>1.0</td>\n",
       "      <td>7583.00000</td>\n",
       "      <td>0</td>\n",
       "      <td>1</td>\n",
       "      <td>0</td>\n",
       "      <td>1</td>\n",
       "      <td>0</td>\n",
       "      <td>0</td>\n",
       "      <td>1</td>\n",
       "      <td>0</td>\n",
       "      <td>1</td>\n",
       "      <td>0</td>\n",
       "      <td>1</td>\n",
       "      <td>0</td>\n",
       "      <td>0</td>\n",
       "      <td>0</td>\n",
       "      <td>1</td>\n",
       "    </tr>\n",
       "    <tr>\n",
       "      <th>613</th>\n",
       "      <td>133.000000</td>\n",
       "      <td>360.0</td>\n",
       "      <td>0.0</td>\n",
       "      <td>4583.00000</td>\n",
       "      <td>1</td>\n",
       "      <td>0</td>\n",
       "      <td>1</td>\n",
       "      <td>0</td>\n",
       "      <td>1</td>\n",
       "      <td>0</td>\n",
       "      <td>0</td>\n",
       "      <td>0</td>\n",
       "      <td>1</td>\n",
       "      <td>0</td>\n",
       "      <td>0</td>\n",
       "      <td>1</td>\n",
       "      <td>0</td>\n",
       "      <td>1</td>\n",
       "      <td>0</td>\n",
       "    </tr>\n",
       "  </tbody>\n",
       "</table>\n",
       "<p>614 rows × 19 columns</p>\n",
       "</div>"
      ],
      "text/plain": [
       "     LoanAmount  Loan_Amount_Term  Credit_History  Total_income  \\\n",
       "0    146.412162             360.0             1.0    5849.00000   \n",
       "1    128.000000             360.0             1.0    6913.54085   \n",
       "2     66.000000             360.0             1.0    3000.00000   \n",
       "3    120.000000             360.0             1.0    4941.00000   \n",
       "4    141.000000             360.0             1.0    6000.00000   \n",
       "..          ...               ...             ...           ...   \n",
       "609   71.000000             360.0             1.0    2900.00000   \n",
       "610   40.000000             180.0             1.0    4106.00000   \n",
       "611  253.000000             360.0             1.0    8312.00000   \n",
       "612  187.000000             360.0             1.0    7583.00000   \n",
       "613  133.000000             360.0             0.0    4583.00000   \n",
       "\n",
       "     Gender_Female  Gender_Male  Married_No  Married_Yes  Dependents_0  \\\n",
       "0                0            1           1            0             1   \n",
       "1                0            1           0            1             0   \n",
       "2                0            1           0            1             1   \n",
       "3                0            1           0            1             1   \n",
       "4                0            1           1            0             1   \n",
       "..             ...          ...         ...          ...           ...   \n",
       "609              1            0           1            0             1   \n",
       "610              0            1           0            1             0   \n",
       "611              0            1           0            1             0   \n",
       "612              0            1           0            1             0   \n",
       "613              1            0           1            0             1   \n",
       "\n",
       "     Dependents_1  Dependents_2  Dependents_3+  Education_Graduate  \\\n",
       "0               0             0              0                   1   \n",
       "1               1             0              0                   1   \n",
       "2               0             0              0                   1   \n",
       "3               0             0              0                   0   \n",
       "4               0             0              0                   1   \n",
       "..            ...           ...            ...                 ...   \n",
       "609             0             0              0                   1   \n",
       "610             0             0              1                   1   \n",
       "611             1             0              0                   1   \n",
       "612             0             1              0                   1   \n",
       "613             0             0              0                   1   \n",
       "\n",
       "     Education_Not Graduate  Self_Employed_No  Self_Employed_Yes  \\\n",
       "0                         0                 1                  0   \n",
       "1                         0                 1                  0   \n",
       "2                         0                 0                  1   \n",
       "3                         1                 1                  0   \n",
       "4                         0                 1                  0   \n",
       "..                      ...               ...                ...   \n",
       "609                       0                 1                  0   \n",
       "610                       0                 1                  0   \n",
       "611                       0                 1                  0   \n",
       "612                       0                 1                  0   \n",
       "613                       0                 0                  1   \n",
       "\n",
       "     Property_Area_Rural  Property_Area_Semiurban  Property_Area_Urban  \n",
       "0                      0                        0                    1  \n",
       "1                      1                        0                    0  \n",
       "2                      0                        0                    1  \n",
       "3                      0                        0                    1  \n",
       "4                      0                        0                    1  \n",
       "..                   ...                      ...                  ...  \n",
       "609                    1                        0                    0  \n",
       "610                    1                        0                    0  \n",
       "611                    0                        0                    1  \n",
       "612                    0                        0                    1  \n",
       "613                    0                        1                    0  \n",
       "\n",
       "[614 rows x 19 columns]"
      ]
     },
     "execution_count": 25,
     "metadata": {},
     "output_type": "execute_result"
    }
   ],
   "source": [
    "Xnew"
   ]
  },
  {
   "cell_type": "markdown",
   "id": "4dbda835",
   "metadata": {},
   "source": [
    "# Spliting the data"
   ]
  },
  {
   "cell_type": "code",
   "execution_count": 26,
   "id": "460aca1e",
   "metadata": {},
   "outputs": [],
   "source": [
    "from sklearn.model_selection import train_test_split\n",
    "xtrain,xtest,ytrain,ytest=train_test_split(Xnew,Y,test_size=0.2,random_state=21)"
   ]
  },
  {
   "cell_type": "markdown",
   "id": "bfc4007a",
   "metadata": {},
   "source": [
    "# Model1:LR"
   ]
  },
  {
   "cell_type": "code",
   "execution_count": 27,
   "id": "020c1f0c",
   "metadata": {},
   "outputs": [
    {
     "name": "stdout",
     "output_type": "stream",
     "text": [
      "0.8024439918533605 0.7967479674796748\n"
     ]
    }
   ],
   "source": [
    "from sklearn.linear_model import LogisticRegression\n",
    "lr=LogisticRegression(random_state=21)\n",
    "model=lr.fit(xtrain,ytrain)\n",
    "ts_pred=model.predict(xtest)\n",
    "tr_pred=model.predict(xtrain)\n",
    "from sklearn.metrics import accuracy_score\n",
    "tr_acclr=accuracy_score(tr_pred,ytrain)\n",
    "ts_acclr=accuracy_score(ts_pred,ytest)\n",
    "print(tr_acclr,ts_acclr)"
   ]
  },
  {
   "cell_type": "markdown",
   "id": "8c0c079f",
   "metadata": {},
   "source": [
    "# Model 2: KNC"
   ]
  },
  {
   "cell_type": "code",
   "execution_count": 28,
   "id": "5ba19e18",
   "metadata": {},
   "outputs": [
    {
     "name": "stdout",
     "output_type": "stream",
     "text": [
      "0.7556008146639511 0.6178861788617886\n"
     ]
    }
   ],
   "source": [
    "from sklearn.neighbors import KNeighborsClassifier\n",
    "knc=KNeighborsClassifier()\n",
    "model=knc.fit(xtrain,ytrain)\n",
    "tr_pred=model.predict(xtrain)\n",
    "ts_pred=model.predict(xtest)\n",
    "tr_accknc=accuracy_score(tr_pred,ytrain)\n",
    "ts_accknc=accuracy_score(ts_pred,ytest)\n",
    "print(tr_accknc,ts_accknc)"
   ]
  },
  {
   "cell_type": "markdown",
   "id": "a442ff10",
   "metadata": {},
   "source": [
    "# Model 3:DTC"
   ]
  },
  {
   "cell_type": "code",
   "execution_count": 29,
   "id": "aa1b52d2",
   "metadata": {},
   "outputs": [
    {
     "name": "stdout",
     "output_type": "stream",
     "text": [
      "1.0 0.6747967479674797\n"
     ]
    }
   ],
   "source": [
    "from sklearn.tree import DecisionTreeClassifier\n",
    "dtc=DecisionTreeClassifier(criterion=\"entropy\",random_state=21)\n",
    "model=dtc.fit(xtrain,ytrain)\n",
    "tr_pred=model.predict(xtrain)\n",
    "ts_pred=model.predict(xtest)\n",
    "tr_accdtc=accuracy_score(tr_pred,ytrain)\n",
    "ts_accdtc=accuracy_score(ts_pred,ytest)\n",
    "print(tr_accdtc,ts_accdtc)"
   ]
  },
  {
   "cell_type": "code",
   "execution_count": 30,
   "id": "247fe1e5",
   "metadata": {},
   "outputs": [
    {
     "name": "stdout",
     "output_type": "stream",
     "text": [
      "1.0 0.6991869918699187\n"
     ]
    }
   ],
   "source": [
    "from sklearn.tree import DecisionTreeClassifier\n",
    "dtc=DecisionTreeClassifier(criterion=\"gini\",random_state=21)\n",
    "model=dtc.fit(xtrain,ytrain)\n",
    "tr_pred=model.predict(xtrain)\n",
    "ts_pred=model.predict(xtest)\n",
    "tr_accdtc=accuracy_score(tr_pred,ytrain)\n",
    "ts_accdtc=accuracy_score(ts_pred,ytest)\n",
    "print(tr_accdtc,ts_accdtc)"
   ]
  },
  {
   "cell_type": "markdown",
   "id": "58f00987",
   "metadata": {},
   "source": [
    "# ABC"
   ]
  },
  {
   "cell_type": "code",
   "execution_count": 31,
   "id": "a3771d0d",
   "metadata": {},
   "outputs": [
    {
     "name": "stdout",
     "output_type": "stream",
     "text": [
      "1.0 0.7235772357723578\n"
     ]
    }
   ],
   "source": [
    "from sklearn.ensemble import AdaBoostClassifier\n",
    "from sklearn.tree import DecisionTreeClassifier\n",
    "dtc=DecisionTreeClassifier(random_state=21,max_depth=2)\n",
    "abc=AdaBoostClassifier(dtc,n_estimators=100)\n",
    "model=abc.fit(xtrain,ytrain)\n",
    "tr_pred=model.predict(xtrain)\n",
    "ts_pred=model.predict(xtest)\n",
    "from sklearn.metrics import accuracy_score\n",
    "tr_accABC=accuracy_score(ytrain,tr_pred)\n",
    "ts_accABC=accuracy_score(ytest,ts_pred)\n",
    "print(tr_accABC,ts_accABC)"
   ]
  },
  {
   "cell_type": "markdown",
   "id": "2c9e7f06",
   "metadata": {},
   "source": [
    "# RFC"
   ]
  },
  {
   "cell_type": "code",
   "execution_count": 32,
   "id": "de63c723",
   "metadata": {},
   "outputs": [
    {
     "name": "stdout",
     "output_type": "stream",
     "text": [
      "1.0 0.7804878048780488\n"
     ]
    }
   ],
   "source": [
    "from sklearn.ensemble import RandomForestClassifier\n",
    "rfc=RandomForestClassifier(random_state=21)\n",
    "model=rfc.fit(xtrain,ytrain)\n",
    "tr_pred=model.predict(xtrain)\n",
    "ts_pred=model.predict(xtest)\n",
    "from sklearn.metrics import accuracy_score\n",
    "tr_accRFC=accuracy_score(ytrain,tr_pred)\n",
    "ts_accRFC=accuracy_score(ytest,ts_pred)\n",
    "print(tr_accRFC,ts_accRFC)"
   ]
  },
  {
   "cell_type": "markdown",
   "id": "58309f03",
   "metadata": {},
   "source": [
    "# Overfitting observed(Pruning)"
   ]
  },
  {
   "cell_type": "code",
   "execution_count": 33,
   "id": "1f0243b5",
   "metadata": {},
   "outputs": [
    {
     "data": {
      "text/plain": [
       "(0.8085539714867617, 0.8211382113821138)"
      ]
     },
     "execution_count": 33,
     "metadata": {},
     "output_type": "execute_result"
    }
   ],
   "source": [
    "from sklearn.ensemble import RandomForestClassifier\n",
    "rfr=RandomForestClassifier(n_estimators=150,max_depth=2)\n",
    "model=rfr.fit(xtrain,ytrain)\n",
    "tr_pred=model.predict(xtrain)\n",
    "ts_pred=model.predict(xtest)\n",
    "from sklearn.metrics import accuracy_score\n",
    "tr_accRFC=accuracy_score(ytrain,tr_pred)\n",
    "ts_accRFC=accuracy_score(ytest,ts_pred)\n",
    "tr_accRFC,ts_accRFC"
   ]
  },
  {
   "cell_type": "markdown",
   "id": "45850d07",
   "metadata": {},
   "source": [
    "# GridSearchCV for hyperparameters"
   ]
  },
  {
   "cell_type": "code",
   "execution_count": 34,
   "id": "b9cf9921",
   "metadata": {},
   "outputs": [
    {
     "data": {
      "text/plain": [
       "{'max_depth': 5, 'n_estimators': 72}"
      ]
     },
     "execution_count": 34,
     "metadata": {},
     "output_type": "execute_result"
    }
   ],
   "source": [
    "tg={\"max_depth\":range(2,20,1),\"n_estimators\":range(2,200,10)}\n",
    "rfc=RandomForestClassifier(random_state=21)\n",
    "from sklearn.model_selection import GridSearchCV\n",
    "cv=GridSearchCV(rfc,tg,scoring=\"accuracy\",cv=4)\n",
    "cvmodel=cv.fit(Xnew,Y)\n",
    "cvmodel.best_params_"
   ]
  },
  {
   "cell_type": "code",
   "execution_count": 35,
   "id": "26107388",
   "metadata": {},
   "outputs": [
    {
     "data": {
      "text/plain": [
       "(0.8370672097759674, 0.8130081300813008)"
      ]
     },
     "execution_count": 35,
     "metadata": {},
     "output_type": "execute_result"
    }
   ],
   "source": [
    "from sklearn.ensemble import RandomForestClassifier\n",
    "rfr=RandomForestClassifier(n_estimators=42,max_depth=5)\n",
    "model=rfr.fit(xtrain,ytrain)\n",
    "tr_pred=model.predict(xtrain)\n",
    "ts_pred=model.predict(xtest)\n",
    "from sklearn.metrics import accuracy_score\n",
    "tr_acc=accuracy_score(ytrain,tr_pred)\n",
    "ts_acc=accuracy_score(ytest,ts_pred)\n",
    "tr_acc,ts_acc"
   ]
  },
  {
   "cell_type": "code",
   "execution_count": 36,
   "id": "2ca79485",
   "metadata": {},
   "outputs": [
    {
     "data": {
      "text/plain": [
       "{'min_samples_leaf': 5, 'n_estimators': 62}"
      ]
     },
     "execution_count": 36,
     "metadata": {},
     "output_type": "execute_result"
    }
   ],
   "source": [
    "tg={\"min_samples_leaf\":range(2,20,1),\"n_estimators\":range(2,200,10)}\n",
    "rfc=RandomForestClassifier(random_state=21)\n",
    "from sklearn.model_selection import GridSearchCV\n",
    "cv=GridSearchCV(rfc,tg,scoring=\"accuracy\",cv=4)\n",
    "cvmodel=cv.fit(Xnew,Y)\n",
    "cvmodel.best_params_"
   ]
  },
  {
   "cell_type": "code",
   "execution_count": 37,
   "id": "350416d4",
   "metadata": {},
   "outputs": [
    {
     "data": {
      "text/plain": [
       "(0.8187372708757638, 0.8048780487804879)"
      ]
     },
     "execution_count": 37,
     "metadata": {},
     "output_type": "execute_result"
    }
   ],
   "source": [
    "from sklearn.ensemble import RandomForestClassifier\n",
    "rfr=RandomForestClassifier(n_estimators=52,min_samples_leaf=5)\n",
    "model=rfr.fit(xtrain,ytrain)\n",
    "tr_pred=model.predict(xtrain)\n",
    "ts_pred=model.predict(xtest)\n",
    "from sklearn.metrics import accuracy_score\n",
    "tr_acc=accuracy_score(ytrain,tr_pred)\n",
    "ts_acc=accuracy_score(ytest,ts_pred)\n",
    "tr_acc,ts_acc"
   ]
  },
  {
   "cell_type": "code",
   "execution_count": 38,
   "id": "75c0ccd6",
   "metadata": {},
   "outputs": [
    {
     "data": {
      "text/plain": [
       "{'min_samples_split': 18, 'n_estimators': 22}"
      ]
     },
     "execution_count": 38,
     "metadata": {},
     "output_type": "execute_result"
    }
   ],
   "source": [
    "tg={\"min_samples_split\":range(2,20,1),\"n_estimators\":range(2,200,10)}\n",
    "rfc=RandomForestClassifier(random_state=21)\n",
    "from sklearn.model_selection import GridSearchCV\n",
    "cv=GridSearchCV(rfc,tg,scoring=\"accuracy\",cv=4)\n",
    "cvmodel=cv.fit(Xnew,Y)\n",
    "cvmodel.best_params_"
   ]
  },
  {
   "cell_type": "code",
   "execution_count": 39,
   "id": "dfb3772c",
   "metadata": {},
   "outputs": [
    {
     "data": {
      "text/plain": [
       "(0.8431771894093686, 0.8048780487804879)"
      ]
     },
     "execution_count": 39,
     "metadata": {},
     "output_type": "execute_result"
    }
   ],
   "source": [
    "from sklearn.ensemble import RandomForestClassifier\n",
    "rfr=RandomForestClassifier(n_estimators=32,min_samples_split=18)\n",
    "model=rfr.fit(xtrain,ytrain)\n",
    "tr_pred=model.predict(xtrain)\n",
    "ts_pred=model.predict(xtest)\n",
    "from sklearn.metrics import accuracy_score\n",
    "tr_acc=accuracy_score(ytrain,tr_pred)\n",
    "ts_acc=accuracy_score(ytest,ts_pred)\n",
    "tr_acc,ts_acc"
   ]
  },
  {
   "cell_type": "markdown",
   "id": "461f751f",
   "metadata": {},
   "source": [
    "RFC with min_samples_leaf=4 & n_estimators=52 is the best model"
   ]
  },
  {
   "cell_type": "markdown",
   "id": "fb7fa554",
   "metadata": {},
   "source": [
    "# Final Random Forest Classification model using above best parameter grid and passing whole training data"
   ]
  },
  {
   "cell_type": "markdown",
   "id": "eceda16e",
   "metadata": {},
   "source": [
    "# test Data preparation"
   ]
  },
  {
   "cell_type": "code",
   "execution_count": 40,
   "id": "d7c62b57",
   "metadata": {},
   "outputs": [],
   "source": [
    "k=B1.drop(labels=[\"Loan_ID\"],axis=1)"
   ]
  },
  {
   "cell_type": "code",
   "execution_count": 41,
   "id": "ee02044d",
   "metadata": {},
   "outputs": [],
   "source": [
    "Knew=pd.get_dummies(k)"
   ]
  },
  {
   "cell_type": "code",
   "execution_count": 42,
   "id": "6ce8c77b",
   "metadata": {},
   "outputs": [],
   "source": [
    "from sklearn.ensemble import RandomForestClassifier\n",
    "rfc = RandomForestClassifier(random_state=21,max_depth=4,min_samples_leaf=4,n_estimators=32)\n",
    "rfc_model_final = rfc.fit(Xnew,Y)"
   ]
  },
  {
   "cell_type": "code",
   "execution_count": 43,
   "id": "ae27bcb8",
   "metadata": {},
   "outputs": [],
   "source": [
    "loan_status = pd.DataFrame(rfc_model_final.predict(Knew),columns=[\"Loan_Status\"])\n",
    "pred_1 =B.join(loan_status)[[\"Loan_ID\",\"Loan_Status\"]]"
   ]
  },
  {
   "cell_type": "code",
   "execution_count": 44,
   "id": "df776734",
   "metadata": {},
   "outputs": [
    {
     "data": {
      "text/html": [
       "<div>\n",
       "<style scoped>\n",
       "    .dataframe tbody tr th:only-of-type {\n",
       "        vertical-align: middle;\n",
       "    }\n",
       "\n",
       "    .dataframe tbody tr th {\n",
       "        vertical-align: top;\n",
       "    }\n",
       "\n",
       "    .dataframe thead th {\n",
       "        text-align: right;\n",
       "    }\n",
       "</style>\n",
       "<table border=\"1\" class=\"dataframe\">\n",
       "  <thead>\n",
       "    <tr style=\"text-align: right;\">\n",
       "      <th></th>\n",
       "      <th>Loan_ID</th>\n",
       "      <th>Loan_Status</th>\n",
       "    </tr>\n",
       "  </thead>\n",
       "  <tbody>\n",
       "    <tr>\n",
       "      <th>0</th>\n",
       "      <td>LP001015</td>\n",
       "      <td>Y</td>\n",
       "    </tr>\n",
       "    <tr>\n",
       "      <th>1</th>\n",
       "      <td>LP001022</td>\n",
       "      <td>Y</td>\n",
       "    </tr>\n",
       "    <tr>\n",
       "      <th>2</th>\n",
       "      <td>LP001031</td>\n",
       "      <td>Y</td>\n",
       "    </tr>\n",
       "    <tr>\n",
       "      <th>3</th>\n",
       "      <td>LP001035</td>\n",
       "      <td>Y</td>\n",
       "    </tr>\n",
       "    <tr>\n",
       "      <th>4</th>\n",
       "      <td>LP001051</td>\n",
       "      <td>Y</td>\n",
       "    </tr>\n",
       "  </tbody>\n",
       "</table>\n",
       "</div>"
      ],
      "text/plain": [
       "    Loan_ID Loan_Status\n",
       "0  LP001015           Y\n",
       "1  LP001022           Y\n",
       "2  LP001031           Y\n",
       "3  LP001035           Y\n",
       "4  LP001051           Y"
      ]
     },
     "execution_count": 44,
     "metadata": {},
     "output_type": "execute_result"
    }
   ],
   "source": [
    "pred_1.head()"
   ]
  },
  {
   "cell_type": "code",
   "execution_count": 45,
   "id": "2bcb855f",
   "metadata": {},
   "outputs": [],
   "source": [
    "pred_1.to_csv(\"Desktop/submissions1.csv\")"
   ]
  },
  {
   "cell_type": "markdown",
   "id": "a5cf951a",
   "metadata": {},
   "source": [
    "# Problem Statement 2\n",
    "If customer is not eligible for the input required amount and duration:\n",
    "#a.)what can be amount for the given duration.(Regression)"
   ]
  },
  {
   "cell_type": "markdown",
   "id": "1361c1b5",
   "metadata": {},
   "source": [
    "take a data whose loan has been rejected"
   ]
  },
  {
   "cell_type": "code",
   "execution_count": 46,
   "id": "0073420f",
   "metadata": {},
   "outputs": [],
   "source": [
    "D=A[A.Loan_Status=='Y']"
   ]
  },
  {
   "cell_type": "code",
   "execution_count": 47,
   "id": "c0f1c4c7",
   "metadata": {},
   "outputs": [],
   "source": [
    "E=B.join(loan_status)\n",
    "E=E[E.Loan_Status==\"N\"]"
   ]
  },
  {
   "cell_type": "code",
   "execution_count": 48,
   "id": "561c2693",
   "metadata": {},
   "outputs": [
    {
     "data": {
      "text/plain": [
       "(422, 14)"
      ]
     },
     "execution_count": 48,
     "metadata": {},
     "output_type": "execute_result"
    }
   ],
   "source": [
    "D.shape"
   ]
  },
  {
   "cell_type": "code",
   "execution_count": 49,
   "id": "daea97f3",
   "metadata": {},
   "outputs": [
    {
     "data": {
      "text/plain": [
       "(59, 14)"
      ]
     },
     "execution_count": 49,
     "metadata": {},
     "output_type": "execute_result"
    }
   ],
   "source": [
    "E.shape"
   ]
  },
  {
   "cell_type": "code",
   "execution_count": 50,
   "id": "c4309c1c",
   "metadata": {},
   "outputs": [],
   "source": [
    "D.index=range(0,422,1)\n",
    "E.index=range(0,59,1)"
   ]
  },
  {
   "cell_type": "code",
   "execution_count": 51,
   "id": "927b535a",
   "metadata": {},
   "outputs": [
    {
     "data": {
      "text/plain": [
       "Index(['Loan_ID', 'Gender', 'Married', 'Dependents', 'Education',\n",
       "       'Self_Employed', 'ApplicantIncome', 'CoapplicantIncome', 'LoanAmount',\n",
       "       'Loan_Amount_Term', 'Credit_History', 'Property_Area', 'Loan_Status',\n",
       "       'Total_income'],\n",
       "      dtype='object')"
      ]
     },
     "execution_count": 51,
     "metadata": {},
     "output_type": "execute_result"
    }
   ],
   "source": [
    "D.columns"
   ]
  },
  {
   "cell_type": "code",
   "execution_count": 52,
   "id": "1917e9a7",
   "metadata": {},
   "outputs": [
    {
     "data": {
      "text/plain": [
       "Index(['Loan_ID', 'Gender', 'Married', 'Dependents', 'Education',\n",
       "       'Self_Employed', 'ApplicantIncome', 'CoapplicantIncome', 'LoanAmount',\n",
       "       'Loan_Amount_Term', 'Credit_History', 'Property_Area', 'Total_income',\n",
       "       'Loan_Status'],\n",
       "      dtype='object')"
      ]
     },
     "execution_count": 52,
     "metadata": {},
     "output_type": "execute_result"
    }
   ],
   "source": [
    "E.columns"
   ]
  },
  {
   "cell_type": "markdown",
   "id": "2f31199c",
   "metadata": {},
   "source": [
    "# Remove Insignificant columns"
   ]
  },
  {
   "cell_type": "code",
   "execution_count": 53,
   "id": "4e86923d",
   "metadata": {},
   "outputs": [],
   "source": [
    "M=D.drop(labels=[\"Loan_ID\",\"Loan_Status\"],axis=1)\n",
    "N=E.drop(labels=[\"Loan_ID\",\"Loan_Status\",\"LoanAmount\"],axis=1)"
   ]
  },
  {
   "cell_type": "markdown",
   "id": "5d503f41",
   "metadata": {},
   "source": [
    "# Define X&Y"
   ]
  },
  {
   "cell_type": "code",
   "execution_count": 54,
   "id": "9358979f",
   "metadata": {},
   "outputs": [],
   "source": [
    "Y=M[[\"LoanAmount\"]]\n",
    "X= M.drop(labels=[\"LoanAmount\"],axis=1)\n",
    "R=N"
   ]
  },
  {
   "cell_type": "code",
   "execution_count": 55,
   "id": "6c0b59a2",
   "metadata": {},
   "outputs": [],
   "source": [
    "cat = []\n",
    "con = []\n",
    "for i in X.columns:\n",
    "    if(X[i].dtypes==\"object\"):\n",
    "        cat.append(i)\n",
    "    else:\n",
    "        con.append(i)"
   ]
  },
  {
   "cell_type": "code",
   "execution_count": 56,
   "id": "3865c940",
   "metadata": {},
   "outputs": [],
   "source": [
    "cat1 = []\n",
    "con1 = []\n",
    "for i in R.columns:\n",
    "    if(R[i].dtypes==\"object\"):\n",
    "        cat1.append(i)\n",
    "    else:\n",
    "        con1.append(i)"
   ]
  },
  {
   "cell_type": "markdown",
   "id": "2fc08ed0",
   "metadata": {},
   "source": [
    "# Preprocessing"
   ]
  },
  {
   "cell_type": "code",
   "execution_count": 57,
   "id": "75072e37",
   "metadata": {},
   "outputs": [],
   "source": [
    "from sklearn.preprocessing import StandardScaler\n",
    "ss = StandardScaler()\n",
    "X1=pd.get_dummies(X[cat])\n",
    "Z1=pd.get_dummies(R[cat1])\n",
    "X2= pd.DataFrame(ss.fit_transform(X[con]),columns=con)\n",
    "Z2= pd.DataFrame(ss.fit_transform(R[con1]),columns=con1)\n",
    "Xnew= X1.join(X2)\n",
    "Znew= Z1.join(Z2)"
   ]
  },
  {
   "cell_type": "markdown",
   "id": "6314152f",
   "metadata": {},
   "source": [
    "# Spilt the data "
   ]
  },
  {
   "cell_type": "code",
   "execution_count": 58,
   "id": "390fc159",
   "metadata": {},
   "outputs": [],
   "source": [
    "from sklearn.model_selection import train_test_split\n",
    "xtrain,xtest,ytrain,ytest=train_test_split(Xnew,Y,test_size=0.2,random_state=21)"
   ]
  },
  {
   "cell_type": "markdown",
   "id": "2787068e",
   "metadata": {},
   "source": [
    "# KNR Model"
   ]
  },
  {
   "cell_type": "code",
   "execution_count": 59,
   "id": "7224405b",
   "metadata": {},
   "outputs": [
    {
     "data": {
      "text/plain": [
       "(35.07429224476702, 48.862146263910965)"
      ]
     },
     "execution_count": 59,
     "metadata": {},
     "output_type": "execute_result"
    }
   ],
   "source": [
    "from sklearn.neighbors import KNeighborsRegressor\n",
    "knr=KNeighborsRegressor(n_neighbors=5)\n",
    "model=knr.fit(xtrain,ytrain)\n",
    "tr_pred=model.predict(xtrain)\n",
    "ts_pred=model.predict(xtest)\n",
    "from sklearn.metrics import mean_absolute_error\n",
    "tr_err=mean_absolute_error(ytrain,tr_pred)\n",
    "ts_err=mean_absolute_error(ytest,ts_pred)\n",
    "tr_err,ts_err"
   ]
  },
  {
   "cell_type": "markdown",
   "id": "367ecb72",
   "metadata": {},
   "source": [
    "# DTR"
   ]
  },
  {
   "cell_type": "code",
   "execution_count": 60,
   "id": "5fd2b0ad",
   "metadata": {},
   "outputs": [
    {
     "data": {
      "text/plain": [
       "(0.0, 62.833227344992046)"
      ]
     },
     "execution_count": 60,
     "metadata": {},
     "output_type": "execute_result"
    }
   ],
   "source": [
    "from sklearn.tree import DecisionTreeRegressor\n",
    "dtr=DecisionTreeRegressor(random_state=21)\n",
    "model=dtr.fit(xtrain,ytrain)\n",
    "tr_pred=model.predict(xtrain)\n",
    "ts_pred=model.predict(xtest)\n",
    "from sklearn.metrics import mean_absolute_error\n",
    "tr_err=mean_absolute_error(ytrain,tr_pred)\n",
    "ts_err=mean_absolute_error(ytest,ts_pred)\n",
    "tr_err,ts_err"
   ]
  },
  {
   "cell_type": "markdown",
   "id": "bfc7d08d",
   "metadata": {},
   "source": [
    "# RFR"
   ]
  },
  {
   "cell_type": "code",
   "execution_count": 61,
   "id": "aacc12e9",
   "metadata": {},
   "outputs": [
    {
     "data": {
      "text/plain": [
       "(13.889504170342448, 42.816767090620026)"
      ]
     },
     "execution_count": 61,
     "metadata": {},
     "output_type": "execute_result"
    }
   ],
   "source": [
    "from sklearn.ensemble import RandomForestRegressor\n",
    "rfr=RandomForestRegressor(random_state=21)\n",
    "model=rfr.fit(xtrain,ytrain)\n",
    "tr_pred=model.predict(xtrain)\n",
    "ts_pred=model.predict(xtest)\n",
    "from sklearn.metrics import mean_absolute_error\n",
    "tr_err=mean_absolute_error(ytrain,tr_pred)\n",
    "ts_err=mean_absolute_error(ytest,ts_pred)\n",
    "tr_err,ts_err"
   ]
  },
  {
   "cell_type": "markdown",
   "id": "f83bf5bb",
   "metadata": {},
   "source": [
    "# Overfitting observed(pruning)"
   ]
  },
  {
   "cell_type": "code",
   "execution_count": 62,
   "id": "ac467c33",
   "metadata": {},
   "outputs": [
    {
     "data": {
      "text/plain": [
       "(34.63497154640488, 43.73649741541654)"
      ]
     },
     "execution_count": 62,
     "metadata": {},
     "output_type": "execute_result"
    }
   ],
   "source": [
    "from sklearn.ensemble import RandomForestRegressor\n",
    "rfr=RandomForestRegressor(n_estimators=12,max_depth=2)\n",
    "model=rfr.fit(xtrain,ytrain)\n",
    "tr_pred=model.predict(xtrain)\n",
    "ts_pred=model.predict(xtest)\n",
    "from sklearn.metrics import mean_absolute_error\n",
    "tr_err=mean_absolute_error(ytrain,tr_pred)\n",
    "ts_err=mean_absolute_error(ytest,ts_pred)\n",
    "tr_err,ts_err"
   ]
  },
  {
   "cell_type": "markdown",
   "id": "f60f0910",
   "metadata": {},
   "source": [
    "# GridSearchCV for hyperparameters"
   ]
  },
  {
   "cell_type": "code",
   "execution_count": 63,
   "id": "81ac1683",
   "metadata": {},
   "outputs": [
    {
     "data": {
      "text/plain": [
       "{'max_depth': 3, 'n_estimators': 182}"
      ]
     },
     "execution_count": 63,
     "metadata": {},
     "output_type": "execute_result"
    }
   ],
   "source": [
    "tg={\"max_depth\":range(2,20,1),\"n_estimators\":range(2,200,10)}\n",
    "rfr=RandomForestRegressor(random_state=21)\n",
    "from sklearn.model_selection import GridSearchCV\n",
    "cv=GridSearchCV(rfr,tg,scoring = \"neg_mean_absolute_error\",cv=4)\n",
    "cvmodel=cv.fit(Xnew,Y)\n",
    "cvmodel.best_params_"
   ]
  },
  {
   "cell_type": "code",
   "execution_count": 64,
   "id": "60145235",
   "metadata": {},
   "outputs": [
    {
     "data": {
      "text/plain": [
       "{'min_samples_leaf': 4, 'n_estimators': 42}"
      ]
     },
     "execution_count": 64,
     "metadata": {},
     "output_type": "execute_result"
    }
   ],
   "source": [
    "tg={\"min_samples_leaf\":range(2,20,1),\"n_estimators\":range(2,200,10)}\n",
    "rfr=RandomForestRegressor(random_state=21)\n",
    "from sklearn.model_selection import GridSearchCV\n",
    "cv=GridSearchCV(rfr,tg,scoring = \"neg_mean_absolute_error\",cv=4)\n",
    "cvmodel=cv.fit(Xnew,Y)\n",
    "cvmodel.best_params_"
   ]
  },
  {
   "cell_type": "code",
   "execution_count": 65,
   "id": "c3985331",
   "metadata": {},
   "outputs": [
    {
     "data": {
      "text/plain": [
       "{'min_samples_split': 18, 'n_estimators': 162}"
      ]
     },
     "execution_count": 65,
     "metadata": {},
     "output_type": "execute_result"
    }
   ],
   "source": [
    "tg ={\"min_samples_split\":range(2,20,1),\"n_estimators\":range(2,200,10)}\n",
    "rfr=RandomForestRegressor(random_state=21)\n",
    "from sklearn.model_selection import GridSearchCV\n",
    "cv=GridSearchCV(rfr,tg,scoring = \"neg_mean_absolute_error\",cv=4)\n",
    "cvmodel=cv.fit(Xnew,Y)\n",
    "cvmodel.best_params_"
   ]
  },
  {
   "cell_type": "code",
   "execution_count": 66,
   "id": "5ee71983",
   "metadata": {},
   "outputs": [
    {
     "data": {
      "text/plain": [
       "(25.437529516183016, 42.116848873992446)"
      ]
     },
     "execution_count": 66,
     "metadata": {},
     "output_type": "execute_result"
    }
   ],
   "source": [
    "from sklearn.ensemble import RandomForestRegressor\n",
    "rfr=RandomForestRegressor(n_estimators=42,min_samples_split=19)\n",
    "model=rfr.fit(xtrain,ytrain)\n",
    "tr_pred=model.predict(xtrain)\n",
    "ts_pred=model.predict(xtest)\n",
    "from sklearn.metrics import mean_absolute_error\n",
    "tr_err=mean_absolute_error(ytrain,tr_pred)\n",
    "ts_err=mean_absolute_error(ytest,ts_pred)\n",
    "tr_err,ts_err"
   ]
  },
  {
   "cell_type": "markdown",
   "id": "e258f2ba",
   "metadata": {},
   "source": [
    "# Final Model DTR"
   ]
  },
  {
   "cell_type": "code",
   "execution_count": 67,
   "id": "13fad204",
   "metadata": {},
   "outputs": [],
   "source": [
    "dtr=DecisionTreeRegressor(random_state=21)\n",
    "DTR_model=dtr.fit(Xnew,Y)"
   ]
  },
  {
   "cell_type": "code",
   "execution_count": 68,
   "id": "e927d49a",
   "metadata": {},
   "outputs": [],
   "source": [
    "loan_amount_new=pd.DataFrame(DTR_model.predict(Znew),columns=[\"LoanAmount_New\"])\n",
    "pred_2=E.join(loan_amount_new)[[\"Loan_ID\",\"Loan_Status\",\"LoanAmount\",\"LoanAmount_New\"]]"
   ]
  },
  {
   "cell_type": "code",
   "execution_count": 69,
   "id": "0d89f7de",
   "metadata": {},
   "outputs": [],
   "source": [
    "pred_2.to_csv(\"Desktop/submissions2.csv\")"
   ]
  },
  {
   "cell_type": "markdown",
   "id": "e2b5ab21",
   "metadata": {},
   "source": [
    "# Problem statement 3"
   ]
  },
  {
   "cell_type": "markdown",
   "id": "cc021ba2",
   "metadata": {},
   "source": [
    "if duration is less than equal to 20 years, is customer eligible for required amount for some longer duration? What is that duration?"
   ]
  },
  {
   "cell_type": "code",
   "execution_count": 70,
   "id": "ddfd5e73",
   "metadata": {},
   "outputs": [],
   "source": [
    "#consider only data whose loan has been approved from training data"
   ]
  },
  {
   "cell_type": "code",
   "execution_count": 71,
   "id": "09517925",
   "metadata": {},
   "outputs": [],
   "source": [
    "R=A[A.Loan_Status==\"Y\"]"
   ]
  },
  {
   "cell_type": "code",
   "execution_count": 72,
   "id": "1f2eec7b",
   "metadata": {},
   "outputs": [],
   "source": [
    "P=B.join(loan_status)\n",
    "P=P[(P.Loan_Status==\"N\") & (P.Loan_Amount_Term<=240)]"
   ]
  },
  {
   "cell_type": "code",
   "execution_count": 73,
   "id": "15457867",
   "metadata": {},
   "outputs": [
    {
     "data": {
      "text/plain": [
       "(5, 14)"
      ]
     },
     "execution_count": 73,
     "metadata": {},
     "output_type": "execute_result"
    }
   ],
   "source": [
    "P.shape"
   ]
  },
  {
   "cell_type": "code",
   "execution_count": 74,
   "id": "cc8cb064",
   "metadata": {},
   "outputs": [
    {
     "data": {
      "text/plain": [
       "Index(['Loan_ID', 'Gender', 'Married', 'Dependents', 'Education',\n",
       "       'Self_Employed', 'ApplicantIncome', 'CoapplicantIncome', 'LoanAmount',\n",
       "       'Loan_Amount_Term', 'Credit_History', 'Property_Area', 'Total_income',\n",
       "       'Loan_Status'],\n",
       "      dtype='object')"
      ]
     },
     "execution_count": 74,
     "metadata": {},
     "output_type": "execute_result"
    }
   ],
   "source": [
    "P.columns"
   ]
  },
  {
   "cell_type": "code",
   "execution_count": 75,
   "id": "8f296d30",
   "metadata": {},
   "outputs": [
    {
     "data": {
      "text/plain": [
       "(422, 14)"
      ]
     },
     "execution_count": 75,
     "metadata": {},
     "output_type": "execute_result"
    }
   ],
   "source": [
    "R.shape"
   ]
  },
  {
   "cell_type": "code",
   "execution_count": 76,
   "id": "b69833d2",
   "metadata": {},
   "outputs": [],
   "source": [
    "P.index=range(0,5,1)"
   ]
  },
  {
   "cell_type": "code",
   "execution_count": 77,
   "id": "a3c887b0",
   "metadata": {},
   "outputs": [],
   "source": [
    "R.index=range(0,422,1)"
   ]
  },
  {
   "cell_type": "markdown",
   "id": "d138fd14",
   "metadata": {},
   "source": [
    "# Remove Insignificant columns"
   ]
  },
  {
   "cell_type": "code",
   "execution_count": 78,
   "id": "751dfc59",
   "metadata": {},
   "outputs": [],
   "source": [
    "S=R.drop(labels=[\"Loan_ID\",\"ApplicantIncome\",\"CoapplicantIncome\",\"Loan_Status\"],axis=1)\n",
    "T=P.drop(labels=[\"Loan_ID\",\"ApplicantIncome\",\"CoapplicantIncome\",\"Loan_Amount_Term\",\"Loan_Status\"],axis=1)"
   ]
  },
  {
   "cell_type": "markdown",
   "id": "10d04d65",
   "metadata": {},
   "source": [
    "# Define X & Y\n"
   ]
  },
  {
   "cell_type": "code",
   "execution_count": 79,
   "id": "de419548",
   "metadata": {},
   "outputs": [],
   "source": [
    "Y=S[[\"Loan_Amount_Term\"]]\n",
    "X=S.drop(labels=[\"Loan_Amount_Term\"],axis=1)\n",
    "Z=T"
   ]
  },
  {
   "cell_type": "code",
   "execution_count": 80,
   "id": "3b818d45",
   "metadata": {},
   "outputs": [],
   "source": [
    "cat=[]\n",
    "con=[]\n",
    "for i in X.columns:\n",
    "    if(X[i].dtypes==\"object\"):\n",
    "        cat.append(i)\n",
    "    else:\n",
    "        con.append(i) "
   ]
  },
  {
   "cell_type": "code",
   "execution_count": 81,
   "id": "a05ee00a",
   "metadata": {},
   "outputs": [],
   "source": [
    "cat1=[]\n",
    "con1=[]\n",
    "for i in Z.columns:\n",
    "    if(Z[i].dtypes==\"object\"):\n",
    "        cat1.append(i)\n",
    "    else:\n",
    "        con1.append(i)"
   ]
  },
  {
   "cell_type": "markdown",
   "id": "411f4d63",
   "metadata": {},
   "source": [
    "# OHE"
   ]
  },
  {
   "cell_type": "code",
   "execution_count": 82,
   "id": "a4d6fb5e",
   "metadata": {},
   "outputs": [],
   "source": [
    "X1=pd.get_dummies(X[cat])\n",
    "Z1=pd.get_dummies(Z[cat1])"
   ]
  },
  {
   "cell_type": "code",
   "execution_count": 83,
   "id": "6b385eb9",
   "metadata": {},
   "outputs": [
    {
     "data": {
      "text/plain": [
       "15"
      ]
     },
     "execution_count": 83,
     "metadata": {},
     "output_type": "execute_result"
    }
   ],
   "source": [
    "len(X1.columns)"
   ]
  },
  {
   "cell_type": "code",
   "execution_count": 84,
   "id": "9989263a",
   "metadata": {},
   "outputs": [
    {
     "data": {
      "text/plain": [
       "10"
      ]
     },
     "execution_count": 84,
     "metadata": {},
     "output_type": "execute_result"
    }
   ],
   "source": [
    "len(Z1.columns)"
   ]
  },
  {
   "cell_type": "code",
   "execution_count": 85,
   "id": "939e3d97",
   "metadata": {},
   "outputs": [],
   "source": [
    "col_names=[]\n",
    "for i in X1.columns:\n",
    "    if i not in Z1.columns:\n",
    "        col_names.append(i)"
   ]
  },
  {
   "cell_type": "code",
   "execution_count": 86,
   "id": "eee553e3",
   "metadata": {},
   "outputs": [
    {
     "data": {
      "text/plain": [
       "5"
      ]
     },
     "execution_count": 86,
     "metadata": {},
     "output_type": "execute_result"
    }
   ],
   "source": [
    "len(col_names)"
   ]
  },
  {
   "cell_type": "code",
   "execution_count": 87,
   "id": "b2389a12",
   "metadata": {},
   "outputs": [],
   "source": [
    "Z1[col_names]=0"
   ]
  },
  {
   "cell_type": "markdown",
   "id": "2f0b4e65",
   "metadata": {},
   "source": [
    "# Preprocessing"
   ]
  },
  {
   "cell_type": "code",
   "execution_count": 88,
   "id": "19e569e6",
   "metadata": {},
   "outputs": [],
   "source": [
    "from sklearn.preprocessing import StandardScaler\n",
    "ss=StandardScaler()\n",
    "X2=pd.DataFrame(ss.fit_transform(X[con]),columns=con)\n",
    "Z2=pd.DataFrame(ss.fit_transform(Z[con1]),columns=con1)"
   ]
  },
  {
   "cell_type": "code",
   "execution_count": 89,
   "id": "4252a247",
   "metadata": {},
   "outputs": [],
   "source": [
    "Xnew=X1.join(X2)\n",
    "Znew=Z1.join(Z2)"
   ]
  },
  {
   "cell_type": "code",
   "execution_count": 90,
   "id": "533e402b",
   "metadata": {},
   "outputs": [
    {
     "data": {
      "text/plain": [
       "(422, 18)"
      ]
     },
     "execution_count": 90,
     "metadata": {},
     "output_type": "execute_result"
    }
   ],
   "source": [
    "Xnew.shape"
   ]
  },
  {
   "cell_type": "code",
   "execution_count": 91,
   "id": "4d2329ca",
   "metadata": {},
   "outputs": [
    {
     "data": {
      "text/plain": [
       "(5, 18)"
      ]
     },
     "execution_count": 91,
     "metadata": {},
     "output_type": "execute_result"
    }
   ],
   "source": [
    "Znew.shape"
   ]
  },
  {
   "cell_type": "markdown",
   "id": "e0b28e35",
   "metadata": {},
   "source": [
    "# Split"
   ]
  },
  {
   "cell_type": "code",
   "execution_count": 92,
   "id": "02abef45",
   "metadata": {},
   "outputs": [],
   "source": [
    "from sklearn.model_selection import train_test_split\n",
    "xtrain,xtest,ytrain,ytest=train_test_split(Xnew,Y,test_size=0.2,random_state=21)"
   ]
  },
  {
   "cell_type": "markdown",
   "id": "d3d922e6",
   "metadata": {},
   "source": [
    "# Model-1 KNN"
   ]
  },
  {
   "cell_type": "code",
   "execution_count": 93,
   "id": "673fc4ef",
   "metadata": {},
   "outputs": [
    {
     "data": {
      "text/plain": [
       "(24.989910979228487, 40.88470588235294)"
      ]
     },
     "execution_count": 93,
     "metadata": {},
     "output_type": "execute_result"
    }
   ],
   "source": [
    "from sklearn.neighbors import KNeighborsRegressor\n",
    "knr=KNeighborsRegressor(n_neighbors=5)\n",
    "model=knr.fit(xtrain,ytrain)\n",
    "tr_pred=model.predict(xtrain)\n",
    "ts_pred=model.predict(xtest)\n",
    "from sklearn.metrics import mean_absolute_error\n",
    "tr_err=mean_absolute_error(ytrain,tr_pred)\n",
    "ts_err=mean_absolute_error(ytest,ts_pred)\n",
    "tr_err,ts_err"
   ]
  },
  {
   "cell_type": "markdown",
   "id": "ae6ab0c3",
   "metadata": {},
   "source": [
    "# DTR"
   ]
  },
  {
   "cell_type": "code",
   "execution_count": 94,
   "id": "a75c21e8",
   "metadata": {},
   "outputs": [
    {
     "data": {
      "text/plain": [
       "(0.0, 34.72941176470588)"
      ]
     },
     "execution_count": 94,
     "metadata": {},
     "output_type": "execute_result"
    }
   ],
   "source": [
    "from sklearn.tree import DecisionTreeRegressor\n",
    "dtr=DecisionTreeRegressor(random_state=21)\n",
    "model=dtr.fit(xtrain,ytrain)\n",
    "tr_pred=model.predict(xtrain)\n",
    "ts_pred=model.predict(xtest)\n",
    "from sklearn.metrics import mean_absolute_error\n",
    "tr_err=mean_absolute_error(ytrain,tr_pred)\n",
    "ts_err=mean_absolute_error(ytest,ts_pred)\n",
    "tr_err,ts_err"
   ]
  },
  {
   "cell_type": "markdown",
   "id": "f4504c31",
   "metadata": {},
   "source": [
    "# RFR"
   ]
  },
  {
   "cell_type": "code",
   "execution_count": 95,
   "id": "e4eb97b8",
   "metadata": {},
   "outputs": [
    {
     "data": {
      "text/plain": [
       "(13.127715133531158, 39.63670588235294)"
      ]
     },
     "execution_count": 95,
     "metadata": {},
     "output_type": "execute_result"
    }
   ],
   "source": [
    "from sklearn.ensemble import RandomForestRegressor\n",
    "rfr=RandomForestRegressor(random_state=21)\n",
    "model=rfr.fit(xtrain,ytrain)\n",
    "tr_pred=model.predict(xtrain)\n",
    "ts_pred=model.predict(xtest)\n",
    "from sklearn.metrics import mean_absolute_error\n",
    "tr_err=mean_absolute_error(ytrain,tr_pred)\n",
    "ts_err =mean_absolute_error(ytest,ts_pred)\n",
    "tr_err,ts_err"
   ]
  },
  {
   "cell_type": "markdown",
   "id": "7b39f344",
   "metadata": {},
   "source": [
    "# Overfitting observed(pruning)"
   ]
  },
  {
   "cell_type": "code",
   "execution_count": 96,
   "id": "6c9ce308",
   "metadata": {},
   "outputs": [
    {
     "data": {
      "text/plain": [
       "(31.756306105044192, 39.75814788793673)"
      ]
     },
     "execution_count": 96,
     "metadata": {},
     "output_type": "execute_result"
    }
   ],
   "source": [
    "from sklearn.ensemble import RandomForestRegressor\n",
    "rfr=RandomForestRegressor(n_estimators=12,max_depth=2)\n",
    "model=rfr.fit(xtrain,ytrain)\n",
    "tr_pred=model.predict(xtrain)\n",
    "ts_pred=model.predict(xtest)\n",
    "from sklearn.metrics import mean_absolute_error\n",
    "tr_err=mean_absolute_error(ytrain,tr_pred)\n",
    "ts_err=mean_absolute_error(ytest,ts_pred)\n",
    "tr_err,ts_err"
   ]
  },
  {
   "cell_type": "markdown",
   "id": "01fce912",
   "metadata": {},
   "source": [
    "# GridSearchCV for hyperparameters"
   ]
  },
  {
   "cell_type": "code",
   "execution_count": 97,
   "id": "e2b61d27",
   "metadata": {},
   "outputs": [
    {
     "data": {
      "text/plain": [
       "{'max_depth': 4, 'n_estimators': 2}"
      ]
     },
     "execution_count": 97,
     "metadata": {},
     "output_type": "execute_result"
    }
   ],
   "source": [
    "tg={\"max_depth\":range(2,20,1),\"n_estimators\":range(2,200,10)}\n",
    "rfr=RandomForestRegressor(random_state=21)\n",
    "from sklearn.model_selection import GridSearchCV\n",
    "cv=GridSearchCV(rfr,tg,scoring = \"neg_mean_absolute_error\",cv=4)\n",
    "cvmodel = cv.fit(Xnew,Y)\n",
    "cvmodel.best_params_"
   ]
  },
  {
   "cell_type": "code",
   "execution_count": 98,
   "id": "f1ef12db",
   "metadata": {},
   "outputs": [
    {
     "data": {
      "text/plain": [
       "{'min_samples_leaf': 3, 'n_estimators': 2}"
      ]
     },
     "execution_count": 98,
     "metadata": {},
     "output_type": "execute_result"
    }
   ],
   "source": [
    "tg ={\"min_samples_leaf\":range(2,20,1),\"n_estimators\":range(2,200,10)}\n",
    "rfr=RandomForestRegressor(random_state=21)\n",
    "from sklearn.model_selection import GridSearchCV\n",
    "cv=GridSearchCV(rfr,tg,scoring = \"neg_mean_absolute_error\",cv=4)\n",
    "cvmodel=cv.fit(Xnew,Y)\n",
    "cvmodel.best_params_"
   ]
  },
  {
   "cell_type": "code",
   "execution_count": 99,
   "id": "9ad1a7d6",
   "metadata": {},
   "outputs": [
    {
     "data": {
      "text/plain": [
       "{'min_samples_split': 6, 'n_estimators': 2}"
      ]
     },
     "execution_count": 99,
     "metadata": {},
     "output_type": "execute_result"
    }
   ],
   "source": [
    "tg={\"min_samples_split\":range(2,20,1),\"n_estimators\":range(2,200,10)}\n",
    "rfr=RandomForestRegressor(random_state=21)\n",
    "from sklearn.model_selection import GridSearchCV\n",
    "cv=GridSearchCV(rfr,tg,scoring = \"neg_mean_absolute_error\",cv=4)\n",
    "cvmodel=cv.fit(Xnew,Y)\n",
    "cvmodel.best_params_"
   ]
  },
  {
   "cell_type": "code",
   "execution_count": 100,
   "id": "126a58a2",
   "metadata": {},
   "outputs": [
    {
     "data": {
      "text/plain": [
       "(28.321472924129836, 36.55481982700584)"
      ]
     },
     "execution_count": 100,
     "metadata": {},
     "output_type": "execute_result"
    }
   ],
   "source": [
    "from sklearn.ensemble import RandomForestRegressor\n",
    "rfr=RandomForestRegressor(n_estimators=2,max_depth=4)\n",
    "model=rfr.fit(xtrain,ytrain)\n",
    "tr_pred=model.predict(xtrain)\n",
    "ts_pred=model.predict(xtest)\n",
    "from sklearn.metrics import mean_absolute_error\n",
    "tr_err=mean_absolute_error(ytrain,tr_pred)\n",
    "ts_err=mean_absolute_error(ytest,ts_pred)\n",
    "tr_err,ts_err"
   ]
  },
  {
   "cell_type": "code",
   "execution_count": 101,
   "id": "8f362317",
   "metadata": {},
   "outputs": [
    {
     "data": {
      "text/plain": [
       "(25.820153634693696, 42.37277820218996)"
      ]
     },
     "execution_count": 101,
     "metadata": {},
     "output_type": "execute_result"
    }
   ],
   "source": [
    "from sklearn.ensemble import RandomForestRegressor\n",
    "rfr=RandomForestRegressor(n_estimators=2,min_samples_leaf=3)\n",
    "model=rfr.fit(xtrain,ytrain)\n",
    "tr_pred=model.predict(xtrain)\n",
    "ts_pred=model.predict(xtest)\n",
    "from sklearn.metrics import mean_absolute_error\n",
    "tr_err=mean_absolute_error(ytrain,tr_pred)\n",
    "ts_err=mean_absolute_error(ytest,ts_pred)\n",
    "tr_err,ts_err"
   ]
  },
  {
   "cell_type": "code",
   "execution_count": 102,
   "id": "838e0f66",
   "metadata": {},
   "outputs": [
    {
     "data": {
      "text/plain": [
       "(18.38215345485375, 39.34117647058824)"
      ]
     },
     "execution_count": 102,
     "metadata": {},
     "output_type": "execute_result"
    }
   ],
   "source": [
    "from sklearn.ensemble import RandomForestRegressor\n",
    "rfr=RandomForestRegressor(n_estimators=2,min_samples_split=6)\n",
    "model=rfr.fit(xtrain,ytrain)\n",
    "tr_pred=model.predict(xtrain)\n",
    "ts_pred=model.predict(xtest)\n",
    "from sklearn.metrics import mean_absolute_error\n",
    "tr_err=mean_absolute_error(ytrain,tr_pred)\n",
    "ts_err=mean_absolute_error(ytest,ts_pred)\n",
    "tr_err,ts_err"
   ]
  },
  {
   "cell_type": "markdown",
   "id": "a92ba273",
   "metadata": {},
   "source": [
    "# Final Model Random forest Regressor"
   ]
  },
  {
   "cell_type": "code",
   "execution_count": 103,
   "id": "1a855d11",
   "metadata": {},
   "outputs": [],
   "source": [
    "rfr=RandomForestRegressor(random_state=21,max_depth=2,n_estimators=12)\n",
    "rfr_final_model_2=rfr.fit(Xnew,Y)"
   ]
  },
  {
   "cell_type": "code",
   "execution_count": 104,
   "id": "38daa941",
   "metadata": {},
   "outputs": [],
   "source": [
    "loan_amount_term_new = pd.DataFrame(rfr_final_model_2.predict(Znew),columns=[\"Loan_Amount_Term_New\"])\n",
    "pred_3=P.join(loan_amount_term_new)[[\"Loan_ID\",\"Loan_Status\",\"Loan_Amount_Term\",\"Loan_Amount_Term_New\"]]"
   ]
  },
  {
   "cell_type": "code",
   "execution_count": 105,
   "id": "18e0f82f",
   "metadata": {},
   "outputs": [
    {
     "data": {
      "text/html": [
       "<div>\n",
       "<style scoped>\n",
       "    .dataframe tbody tr th:only-of-type {\n",
       "        vertical-align: middle;\n",
       "    }\n",
       "\n",
       "    .dataframe tbody tr th {\n",
       "        vertical-align: top;\n",
       "    }\n",
       "\n",
       "    .dataframe thead th {\n",
       "        text-align: right;\n",
       "    }\n",
       "</style>\n",
       "<table border=\"1\" class=\"dataframe\">\n",
       "  <thead>\n",
       "    <tr style=\"text-align: right;\">\n",
       "      <th></th>\n",
       "      <th>Loan_ID</th>\n",
       "      <th>Loan_Status</th>\n",
       "      <th>Loan_Amount_Term</th>\n",
       "      <th>Loan_Amount_Term_New</th>\n",
       "    </tr>\n",
       "  </thead>\n",
       "  <tbody>\n",
       "    <tr>\n",
       "      <th>0</th>\n",
       "      <td>LP001450</td>\n",
       "      <td>N</td>\n",
       "      <td>180.0</td>\n",
       "      <td>340.996175</td>\n",
       "    </tr>\n",
       "    <tr>\n",
       "      <th>1</th>\n",
       "      <td>LP001979</td>\n",
       "      <td>N</td>\n",
       "      <td>180.0</td>\n",
       "      <td>340.717970</td>\n",
       "    </tr>\n",
       "    <tr>\n",
       "      <th>2</th>\n",
       "      <td>LP002355</td>\n",
       "      <td>N</td>\n",
       "      <td>180.0</td>\n",
       "      <td>340.717970</td>\n",
       "    </tr>\n",
       "    <tr>\n",
       "      <th>3</th>\n",
       "      <td>LP002802</td>\n",
       "      <td>N</td>\n",
       "      <td>6.0</td>\n",
       "      <td>157.400612</td>\n",
       "    </tr>\n",
       "    <tr>\n",
       "      <th>4</th>\n",
       "      <td>LP002921</td>\n",
       "      <td>N</td>\n",
       "      <td>180.0</td>\n",
       "      <td>343.651597</td>\n",
       "    </tr>\n",
       "  </tbody>\n",
       "</table>\n",
       "</div>"
      ],
      "text/plain": [
       "    Loan_ID Loan_Status  Loan_Amount_Term  Loan_Amount_Term_New\n",
       "0  LP001450           N             180.0            340.996175\n",
       "1  LP001979           N             180.0            340.717970\n",
       "2  LP002355           N             180.0            340.717970\n",
       "3  LP002802           N               6.0            157.400612\n",
       "4  LP002921           N             180.0            343.651597"
      ]
     },
     "execution_count": 105,
     "metadata": {},
     "output_type": "execute_result"
    }
   ],
   "source": [
    "pred_3"
   ]
  },
  {
   "cell_type": "code",
   "execution_count": 106,
   "id": "cd36d5ba",
   "metadata": {},
   "outputs": [],
   "source": [
    "pred_1.to_csv(\"Desktop/submissions3.csv\")"
   ]
  },
  {
   "cell_type": "code",
   "execution_count": null,
   "id": "5dd6493b",
   "metadata": {},
   "outputs": [],
   "source": []
  }
 ],
 "metadata": {
  "kernelspec": {
   "display_name": "Python 3",
   "language": "python",
   "name": "python3"
  },
  "language_info": {
   "codemirror_mode": {
    "name": "ipython",
    "version": 3
   },
   "file_extension": ".py",
   "mimetype": "text/x-python",
   "name": "python",
   "nbconvert_exporter": "python",
   "pygments_lexer": "ipython3",
   "version": "3.8.8"
  }
 },
 "nbformat": 4,
 "nbformat_minor": 5
}
